{
  "nbformat": 4,
  "nbformat_minor": 0,
  "metadata": {
    "colab": {
      "name": "MLP.ipynb",
      "provenance": [],
      "collapsed_sections": [],
      "authorship_tag": "ABX9TyPxPeYzUwsy1QibvLFxNPC+",
      "include_colab_link": true
    },
    "kernelspec": {
      "name": "python3",
      "display_name": "Python 3"
    },
    "accelerator": "GPU"
  },
  "cells": [
    {
      "cell_type": "markdown",
      "metadata": {
        "id": "view-in-github",
        "colab_type": "text"
      },
      "source": [
        "<a href=\"https://colab.research.google.com/github/maxsolomonhenry/mlp/blob/master/MLP.ipynb\" target=\"_parent\"><img src=\"https://colab.research.google.com/assets/colab-badge.svg\" alt=\"Open In Colab\"/></a>"
      ]
    },
    {
      "cell_type": "code",
      "metadata": {
        "id": "Ex5_sTE_iOCe",
        "colab_type": "code",
        "colab": {}
      },
      "source": [
        "import numpy as np\n",
        "import matplotlib.pyplot as plt\n",
        "import torch\n",
        "import torchvision\n",
        "import torchvision.transforms as transforms\n",
        "from torch.utils.data import DataLoader, Dataset\n",
        "from sklearn.model_selection import KFold\n",
        "from sklearn import metrics"
      ],
      "execution_count": 0,
      "outputs": []
    },
    {
      "cell_type": "markdown",
      "metadata": {
        "id": "L9Pqbt8Q9lH_",
        "colab_type": "text"
      },
      "source": [
        "Two Layer Multilayer Perceptron Class:"
      ]
    },
    {
      "cell_type": "code",
      "metadata": {
        "id": "QEBIWsV_zZoM",
        "colab_type": "code",
        "colab": {}
      },
      "source": [
        "# Todo:\n",
        "#       dropout w/ probability.\n",
        "#       schedule learning rates/momentum.\n",
        "\n",
        "\n",
        "class TwoLayerMLP:\n",
        "    def __init__(self, n_epochs=2, learning_rate=0.1, batch_size=32, n_inputs=3072, n_outputs=10,\n",
        "                 hidden_layer_width=100, hidden_activation='relu', verbose=False):\n",
        "        self.device = torch.device(\"cuda\" if torch.cuda.is_available() else \"cpu\")\n",
        "        self.n_epochs = n_epochs\n",
        "        self.learning_rate = learning_rate\n",
        "        self.batch_size = batch_size\n",
        "        self.n_inputs = n_inputs\n",
        "        self.n_outputs = n_outputs\n",
        "        self.hidden_layer_width = hidden_layer_width\n",
        "        self.hidden_activation = hidden_activation\n",
        "        self.verbose = verbose\n",
        "        self.V = torch.tensor([])\n",
        "        self.W = torch.tensor([])\n",
        "        self.inputs = torch.tensor([])\n",
        "        self.labels = torch.tensor([])\n",
        "        self.X = torch.tensor([])\n",
        "        self.Y = torch.tensor([])\n",
        "        self.Y_hat = torch.tensor([])\n",
        "        self.A1 = torch.tensor([])\n",
        "        self.Z1 = torch.tensor([])\n",
        "        self.Z2 = torch.tensor([])\n",
        "        self.cost = []\n",
        "        self.accuracy = []\n",
        "        self.prfs = []\n",
        "\n",
        "    @staticmethod\n",
        "    def hyperbolic_tangent(Z):\n",
        "        return Z.tanh()\n",
        "\n",
        "    @staticmethod\n",
        "    def hyperbolic_tangent_derivative(Z):\n",
        "        return 1 - Z.tanh() ** 2\n",
        "\n",
        "    @staticmethod\n",
        "    def sigmoid(Z):\n",
        "        return 1 / (1 + torch.exp(-Z))\n",
        "\n",
        "    @staticmethod\n",
        "    def relu(Z):\n",
        "        return torch.clamp(Z, min=0)\n",
        "\n",
        "    @staticmethod\n",
        "    def relu_subgradient(Z):\n",
        "        return torch.clamp(torch.sign(Z), min=0)\n",
        "\n",
        "    @staticmethod\n",
        "    def softmax(Z):\n",
        "        # Transposing is to allow for row-wise operations (with built-in broadcasting)\n",
        "        max_dim = 1\n",
        "        if Z.ndim == 1:\n",
        "            max_dim = 0\n",
        "        Z0_transpose = Z.t() - Z.max(max_dim)[0]\n",
        "        Y_hat_transpose = torch.exp(Z0_transpose)\n",
        "        Y_hat_transpose /= Y_hat_transpose.sum(0)\n",
        "        Y_hat = Y_hat_transpose.t()\n",
        "        return Y_hat\n",
        "\n",
        "    @staticmethod\n",
        "    def cross_entropy_loss(y_hat, y):\n",
        "        return -torch.dot(y, torch.log(y_hat + 1e-9))\n",
        "\n",
        "    @staticmethod\n",
        "    def cross_entropy_grad(y_hat, y):\n",
        "        return -(y * 1 / y_hat) + (1 - y) * (1 / (1 - y_hat))\n",
        "\n",
        "    @staticmethod\n",
        "    def tensor_width(tensor):\n",
        "        if len(list(tensor.shape)) == 2:\n",
        "            return tensor.size(1)\n",
        "        elif len(list(tensor.shape)) == 1:\n",
        "            return 1\n",
        "        else:\n",
        "            raise ValueError('Tensor must be one or two dimensions.')\n",
        "\n",
        "    def batch_cross_entropy_loss(self):\n",
        "        cost = 0\n",
        "        for i in range(self.Y.shape[0]):\n",
        "            cost += self.cross_entropy_loss(self.Y_hat[i, :], self.Y[i, :])\n",
        "        cost /= self.Y.shape[0]\n",
        "        return cost\n",
        "\n",
        "    def matrixify(self, y):\n",
        "        y = y.long()\n",
        "        n_instances = y.shape[0]\n",
        "        Y = torch.zeros(n_instances, self.n_outputs)\n",
        "        for i in range(n_instances):\n",
        "            Y[i, y[i]] = 1\n",
        "        return Y\n",
        "\n",
        "    def sigmoid_derivative(self, Z):\n",
        "        return self.sigmoid(Z) * (1 - self.sigmoid(Z))\n",
        "\n",
        "    def softmax_grad(self, Z):\n",
        "        # This code adapted from https://link.medium.com/OgOkKMjCz5\n",
        "        soft_max_result = self.softmax(Z)\n",
        "        reshaped = soft_max_result.view(-1, 1)\n",
        "        return torch.diagflat(reshaped) - torch.ger(reshaped[:, 0], reshaped[:, 0])\n",
        "\n",
        "    def activation(self, Z, output=False, derivative=False):\n",
        "        if not output:\n",
        "            function = self.hidden_activation\n",
        "        else:\n",
        "            function = 'softmax'\n",
        "\n",
        "        if not derivative:\n",
        "            if function == 'relu':\n",
        "                return self.relu(Z)\n",
        "            elif function == 'tanh':\n",
        "                return self.hyperbolic_tangent(Z)\n",
        "            elif function == 'sigmoid':\n",
        "                return self.sigmoid(Z)\n",
        "            elif function == 'softmax':\n",
        "                return self.softmax(Z)\n",
        "            else:\n",
        "                raise ValueError(\"Invalid activation function.\")\n",
        "        else:\n",
        "            if function == 'relu':\n",
        "                return self.relu_subgradient(Z)\n",
        "            elif function == 'tanh':\n",
        "                return self.hyperbolic_tangent_derivative(Z)\n",
        "            elif function == 'sigmoid':\n",
        "                return self.sigmoid_derivative(Z)\n",
        "            elif function == 'softmax':\n",
        "                return self.softmax_grad(Z)\n",
        "            else:\n",
        "                raise ValueError(\"Invalid activation function.\")\n",
        "\n",
        "    def initialize_weights(self):\n",
        "        num_categories = self.n_outputs\n",
        "        num_features = self.n_inputs\n",
        "        self.W = torch.normal(0., 1., [num_features, self.hidden_layer_width])\n",
        "        self.W = self.W.to(self.device)\n",
        "        self.V = torch.normal(0., 1., [self.hidden_layer_width, num_categories])\n",
        "        self.V = self.V.to(self.device)\n",
        "\n",
        "    def set_XY(self, data):\n",
        "        images = data[0]\n",
        "        labels = data[1]\n",
        "        self.X = images.flatten(start_dim=1)\n",
        "        self.X = self.X.to(self.device)\n",
        "        self.Y = self.matrixify(labels)\n",
        "        self.Y = self.Y.to(self.device)\n",
        "\n",
        "    def predict_one_batch(self):\n",
        "        # N = number of instances in mini batch\n",
        "        # M = number of hidden units\n",
        "        # C = number of output categories\n",
        "        self.Z1 = torch.mm(self.X, self.W)  # (N x D) x (D x M) -> (N x M)\n",
        "        self.A1 = self.activation(self.Z1)\n",
        "        self.Z2 = torch.mm(self.A1, self.V)  # (N x M) x (M x C) -> (N x C)\n",
        "        self.Y_hat = self.activation(self.Z2, output=True)\n",
        "\n",
        "    def train_one_batch(self):\n",
        "        self.predict_one_batch()\n",
        "        delta_V = 0\n",
        "        delta_W = 0\n",
        "        n_instances = self.Y_hat.shape[0]\n",
        "        for i in range(n_instances):\n",
        "            # Accumulate gradients for W and V.\n",
        "            loss_and_softmax_grad = self.Y_hat[i, :] - self.Y[i, :]\n",
        "            delta_V += torch.ger(self.A1[i, :], loss_and_softmax_grad)\n",
        "            row_calculation = torch.mv(self.V, loss_and_softmax_grad) * self.activation(self.Z1[i, :], derivative=True)\n",
        "            delta_W += torch.ger(self.X[i, :], row_calculation)\n",
        "        # Average gradients.\n",
        "        delta_V /= self.batch_size\n",
        "        delta_W /= self.batch_size\n",
        "        # Gradient descent.\n",
        "        self.V -= self.learning_rate * delta_V\n",
        "        self.W -= self.learning_rate * delta_W\n",
        "\n",
        "    def train_one_epoch(self, train_loader):\n",
        "        for i, data in enumerate(train_loader):\n",
        "            self.set_XY(data)\n",
        "            self.train_one_batch()\n",
        "            self.cost.append(self.batch_cross_entropy_loss())\n",
        "\n",
        "    def train(self, train_dataset):\n",
        "        train_loader = DataLoader(train_dataset, batch_size=self.batch_size, shuffle=True)\n",
        "        self.initialize_weights()\n",
        "        self.cost = []\n",
        "        for i in range(self.n_epochs):\n",
        "            self.train_one_epoch(train_loader)\n",
        "            if self.verbose: print(\"Finished training epoch %d.\" % (i+1))\n",
        "\n",
        "    def test(self, test_dataset):\n",
        "        test_loader = DataLoader(test_dataset, batch_size=self.batch_size, shuffle=True)\n",
        "        for i, data in enumerate(test_loader):\n",
        "          self.set_XY(data)\n",
        "          self.predict_one_batch()\n",
        "          # self.Y_hat.max(dim=0)[1]\n",
        "\n",
        "    def convert_to_01(self, soft_input):\n",
        "        return self.matrixify(soft_input.max(dim=1)[1])\n",
        "\n",
        "    def initialize_metrics(self):\n",
        "      self.accuracy = []\n",
        "      self.prfs = []\n",
        "\n",
        "    def evaluate_fold(self, i=0):\n",
        "      self.Y_hat = self.Y_hat.to(device='cpu')\n",
        "      self.Y = self.Y.to(device='cpu')\n",
        "\n",
        "      Y_hat_01 = self.convert_to_01(self.Y_hat)\n",
        "      self.accuracy.append(metrics.accuracy_score(self.Y, Y_hat_01))\n",
        "      self.prfs.append(metrics.precision_recall_fscore_support(self.Y, Y_hat_01, average='micro'))\n",
        "      if self.verbose:\n",
        "        print(\"Fold %d:\\n\\tacc. = %f\\n\\tprec. = %f\" %(i+1, self.accuracy[i], self.prfs[i][0]))\n",
        "\n",
        "    def average_metrics(self):\n",
        "      # average lists.\n",
        "      return\n",
        "\n",
        "    def cross_validate(self, kfold_dataset, n_splits=5):\n",
        "      self.initialize_metrics()\n",
        "      kf = KFold(n_splits=n_splits, shuffle=True)\n",
        "      for i, (train_index, validate_index) in enumerate(kf.split(kfold_dataset)):\n",
        "          kfold_train = torch.utils.data.Subset(kfold_dataset, train_index)\n",
        "          kfold_validate = torch.utils.data.Subset(kfold_dataset, validate_index)\n",
        "\n",
        "          print(\"Training fold %d.\" %(i+1))\n",
        "          self.train(kfold_train)\n",
        "          print(\"Testing fold %d.\" %(i+1))\n",
        "          self.test(kfold_validate)\n",
        "\n",
        "          self.evaluate_fold(i)\n",
        "      self.average_metrics()"
      ],
      "execution_count": 0,
      "outputs": []
    },
    {
      "cell_type": "code",
      "metadata": {
        "id": "k3XA5-0IlhlB",
        "colab_type": "code",
        "colab": {
          "base_uri": "https://localhost:8080/",
          "height": 544
        },
        "outputId": "1e23fdc9-d9da-4a70-c962-a4625ac6bf0d"
      },
      "source": [
        "# TESTING KFOLD and METRICS\n",
        "\n",
        "transform = transforms.Compose([transforms.ToTensor(), transforms.Normalize((0.5, 0.5, 0.5), (0.5, 0.5, 0.5))])\n",
        "kfold_dataset = torchvision.datasets.CIFAR10('/content/sample_data/', download=True, transform=transform)\n",
        "\n",
        "mlp = TwoLayerMLP(hidden_activation='relu', n_epochs=15, batch_size=256, verbose=True, learning_rate=0.005, hidden_layer_width=100)\n",
        "mlp.cross_validate(kfold_dataset)"
      ],
      "execution_count": 30,
      "outputs": [
        {
          "output_type": "stream",
          "text": [
            "Files already downloaded and verified\n",
            "Training fold 1.\n",
            "Finished training epoch 1.\n",
            "Testing fold 1.\n",
            "Fold 1:\n",
            "\tacc. = 0.125000\n",
            "\tprec. = 0.125000\n",
            "Training fold 2.\n",
            "Finished training epoch 1.\n",
            "Testing fold 2.\n",
            "Fold 2:\n",
            "\tacc. = 0.062500\n",
            "\tprec. = 0.062500\n",
            "Training fold 3.\n",
            "Finished training epoch 1.\n",
            "Testing fold 3.\n",
            "Fold 3:\n",
            "\tacc. = 0.187500\n",
            "\tprec. = 0.187500\n",
            "Training fold 4.\n",
            "Finished training epoch 1.\n",
            "Testing fold 4.\n",
            "Fold 4:\n",
            "\tacc. = 0.125000\n",
            "\tprec. = 0.125000\n",
            "Training fold 5.\n",
            "Finished training epoch 1.\n",
            "Testing fold 5.\n",
            "Fold 5:\n",
            "\tacc. = 0.187500\n",
            "\tprec. = 0.187500\n"
          ],
          "name": "stdout"
        }
      ]
    },
    {
      "cell_type": "code",
      "metadata": {
        "id": "x9GjT-mli6yx",
        "colab_type": "code",
        "outputId": "315ca891-8563-456f-af68-7c7d64b417b6",
        "colab": {
          "base_uri": "https://localhost:8080/",
          "height": 568
        }
      },
      "source": [
        "# PLAYING WITH HYPERPARAMETERS\n",
        "\n",
        "transform = transforms.Compose([transforms.ToTensor(), transforms.Normalize((0.5, 0.5, 0.5), (0.5, 0.5, 0.5))])\n",
        "train_dataset = torchvision.datasets.CIFAR10('/content/sample_data/', download=True, transform=transform)\n",
        "\n",
        "mlp = TwoLayerMLP(hidden_activation='sigmoid', n_epochs=15, batch_size=256, verbose=True, learning_rate=0.005, hidden_layer_width=100)\n",
        "mlp.train(train_dataset)\n",
        "plt.plot(mlp.cost)\n",
        "plt.ylabel('Cost')\n",
        "plt.xlabel('Mini-batches')\n",
        "# test_dataset = torchvision.datasets.CIFAR10('/content/sample_data/', download=True, train=False, transform=transform)\n",
        "# mlp.test(test_dataset)"
      ],
      "execution_count": 5,
      "outputs": [
        {
          "output_type": "stream",
          "text": [
            "Files already downloaded and verified\n",
            "Finished training epoch 1.\n",
            "Finished training epoch 2.\n",
            "Finished training epoch 3.\n",
            "Finished training epoch 4.\n",
            "Finished training epoch 5.\n",
            "Finished training epoch 6.\n",
            "Finished training epoch 7.\n",
            "Finished training epoch 8.\n",
            "Finished training epoch 9.\n",
            "Finished training epoch 10.\n",
            "Finished training epoch 11.\n",
            "Finished training epoch 12.\n",
            "Finished training epoch 13.\n",
            "Finished training epoch 14.\n",
            "Finished training epoch 15.\n"
          ],
          "name": "stdout"
        },
        {
          "output_type": "execute_result",
          "data": {
            "text/plain": [
              "Text(0.5, 0, 'Mini-batches')"
            ]
          },
          "metadata": {
            "tags": []
          },
          "execution_count": 5
        },
        {
          "output_type": "display_data",
          "data": {
            "image/png": "[encoded data removed]",
            "text/plain": [
              "<Figure size 432x288 with 1 Axes>"
            ]
          },
          "metadata": {
            "tags": [],
            "needs_background": "light"
          }
        }
      ]
    },
    {
      "cell_type": "code",
      "metadata": {
        "id": "rMHa7Q7_mGZC",
        "colab_type": "code",
        "colab": {}
      },
      "source": [
        ""
      ],
      "execution_count": 0,
      "outputs": []
    },
    {
      "cell_type": "code",
      "metadata": {
        "id": "Oh_HzLoPlOLu",
        "colab_type": "code",
        "outputId": "1a690cfe-b1dc-4df2-dae2-dce9134e13ca",
        "colab": {
          "base_uri": "https://localhost:8080/",
          "height": 155
        }
      },
      "source": [
        "classes = ('plane', 'car', 'bird', 'cat',\n",
        "           'deer', 'dog', 'frog', 'horse', 'ship', 'truck')\n",
        "\n",
        "def image_show(img):\n",
        "  img = img/2 + 0.5\n",
        "  np_img = img.numpy()\n",
        "  plt.imshow(np.transpose(np_img, (1, 2, 0)))\n",
        "  plt.show()\n",
        "\n",
        "# data_iter = iter(train_loader)\n",
        "images, labels = iter(train_loader).next()\n",
        "\n",
        "image_show(torchvision.utils.make_grid(images))\n",
        "print(' '.join('%5s' % classes[labels[j]] for j in range(4))) "
      ],
      "execution_count": 0,
      "outputs": [
        {
          "output_type": "display_data",
          "data": {
            "image/png": "[encoded data removed]",
            "text/plain": [
              "<Figure size 432x288 with 1 Axes>"
            ]
          },
          "metadata": {
            "tags": [],
            "needs_background": "light"
          }
        },
        {
          "output_type": "stream",
          "text": [
            " frog   car  bird   dog\n"
          ],
          "name": "stdout"
        }
      ]
    }
  ]
}