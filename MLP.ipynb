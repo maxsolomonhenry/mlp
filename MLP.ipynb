{
  "nbformat": 4,
  "nbformat_minor": 0,
  "metadata": {
    "colab": {
      "name": "MLP.ipynb",
      "provenance": [],
      "authorship_tag": "ABX9TyPzGwh2V25xJJ7Qh/kY97pJ",
      "include_colab_link": true
    },
    "kernelspec": {
      "name": "python3",
      "display_name": "Python 3"
    },
    "accelerator": "GPU"
  },
  "cells": [
    {
      "cell_type": "markdown",
      "metadata": {
        "id": "view-in-github",
        "colab_type": "text"
      },
      "source": [
        "<a href=\"https://colab.research.google.com/github/maxsolomonhenry/mlp/blob/master/MLP.ipynb\" target=\"_parent\"><img src=\"https://colab.research.google.com/assets/colab-badge.svg\" alt=\"Open In Colab\"/></a>"
      ]
    },
    {
      "cell_type": "code",
      "metadata": {
        "id": "Ex5_sTE_iOCe",
        "colab_type": "code",
        "colab": {}
      },
      "source": [
        "import numpy as np\n",
        "import matplotlib.pyplot as plt\n",
        "import torch\n",
        "import torchvision\n",
        "import torchvision.transforms as transforms\n",
        "from torch.utils.data import DataLoader, Dataset"
      ],
      "execution_count": 0,
      "outputs": []
    },
    {
      "cell_type": "markdown",
      "metadata": {
        "id": "L9Pqbt8Q9lH_",
        "colab_type": "text"
      },
      "source": [
        "Two Layer Multilayer Perceptron Class:"
      ]
    },
    {
      "cell_type": "code",
      "metadata": {
        "id": "QEBIWsV_zZoM",
        "colab_type": "code",
        "colab": {}
      },
      "source": [
        "# Todo:\n",
        "#       dropout w/ probability.\n",
        "#       shuffle input X.\n",
        "\n",
        "\n",
        "class TwoLayerMLP:\n",
        "    def __init__(self, n_iter=1000, learning_rate=0.1, batch_size=30, hidden_layer_width=100,\n",
        "                 hidden_activation='relu'):\n",
        "        self.device = torch.device(\"cuda\" if torch.cuda.is_available() else \"cpu\")\n",
        "        self.n_iter = n_iter\n",
        "        self.learning_rate = learning_rate\n",
        "        self.batch_size = batch_size\n",
        "        self.hidden_layer_width = hidden_layer_width\n",
        "        self.hidden_activation = hidden_activation\n",
        "        self.V = torch.tensor([])\n",
        "        self.W = torch.tensor([])\n",
        "        self.inputs = torch.tensor([])\n",
        "        self.labels = torch.tensor([])\n",
        "        self.X = torch.tensor([])\n",
        "        self.Y = torch.tensor([])\n",
        "        self.Y_hat = torch.tensor([])\n",
        "        self.A1 = torch.tensor([])\n",
        "        self.Z1 = torch.tensor([])\n",
        "        self.Z2 = torch.tensor([])\n",
        "\n",
        "    @staticmethod\n",
        "    def hyperbolic_tangent(Z):\n",
        "        return Z.tanh()\n",
        "\n",
        "    @staticmethod\n",
        "    def hyperbolic_tangent_derivative(Z):\n",
        "        return 1 - Z.tanh() ** 2\n",
        "\n",
        "    @staticmethod\n",
        "    def sigmoid(Z):\n",
        "        return 1 / (1 + torch.exp(-Z))\n",
        "\n",
        "    @staticmethod\n",
        "    def relu(Z):\n",
        "        return torch.clamp(Z, min=0)\n",
        "\n",
        "    @staticmethod\n",
        "    def relu_subgradient(Z):\n",
        "        return torch.clamp(torch.sign(Z), min=0)\n",
        "\n",
        "    @staticmethod\n",
        "    def softmax(Z):\n",
        "        # Transposing is to allow for row-wise operations (with built-in broadcasting)\n",
        "        max_dim = 1\n",
        "        if Z.ndim == 1:\n",
        "            max_dim = 0\n",
        "        Z0_transpose = Z.t() - Z.max(max_dim)[0]\n",
        "        Y_hat_transpose = torch.exp(Z0_transpose)\n",
        "        Y_hat_transpose /= Y_hat_transpose.sum(0)\n",
        "        Y_hat = Y_hat_transpose.t()\n",
        "        return Y_hat\n",
        "\n",
        "    @staticmethod\n",
        "    def cross_entropy_loss(y_hat, y):\n",
        "        return -torch.dot(y, torch.log(y_hat))\n",
        "\n",
        "    @staticmethod\n",
        "    def cross_entropy_grad(y_hat, y):\n",
        "        return -(y * 1 / y_hat) + (1 - y) * (1 / (1 - y_hat))\n",
        "\n",
        "    @staticmethod\n",
        "    def tensor_width(tensor):\n",
        "        if len(list(tensor.shape)) == 2:\n",
        "            return tensor.size(1)\n",
        "        elif len(list(tensor.shape)) == 1:\n",
        "            return 1\n",
        "        else:\n",
        "            raise ValueError('Tensor must be one or two dimensions.')\n",
        "\n",
        "    @staticmethod\n",
        "    def matrixify(y):\n",
        "        num_categories = int(y.max()) + 1\n",
        "        num_entries = len(y)\n",
        "        y = y.long()\n",
        "        Y = torch.zeros(num_entries, num_categories)\n",
        "        for i in range(num_entries):\n",
        "            Y[i, y[i]] = 1\n",
        "        return Y\n",
        "\n",
        "    def sigmoid_derivative(self, Z):\n",
        "        return self.sigmoid(Z) * (1 - self.sigmoid(Z))\n",
        "\n",
        "    def softmax_grad(self, Z):\n",
        "        # This code adapted from https://link.medium.com/OgOkKMjCz5\n",
        "        soft_max_result = self.softmax(Z)\n",
        "        reshaped = soft_max_result.view(-1, 1)\n",
        "        return torch.diagflat(reshaped) - torch.ger(reshaped[:, 0], reshaped[:, 0])\n",
        "\n",
        "    def activation(self, Z, output=False, derivative=False):\n",
        "        if not output:\n",
        "            function = self.hidden_activation\n",
        "        else:\n",
        "            function = 'softmax'\n",
        "\n",
        "        if not derivative:\n",
        "            if function == 'relu':\n",
        "                return self.relu(Z)\n",
        "            elif function == 'tanh':\n",
        "                return self.hyperbolic_tangent(Z)\n",
        "            elif function == 'sigmoid':\n",
        "                return self.sigmoid(Z)\n",
        "            elif function == 'softmax':\n",
        "                return self.softmax(Z)\n",
        "            else:\n",
        "                raise ValueError(\"Invalid activation function.\")\n",
        "        else:\n",
        "            if function == 'relu':\n",
        "                return self.relu_subgradient(Z)\n",
        "            elif function == 'tanh':\n",
        "                return self.hyperbolic_tangent_derivative(Z)\n",
        "            elif function == 'sigmoid':\n",
        "                return self.sigmoid_derivative(Z)\n",
        "            elif function == 'softmax':\n",
        "                return self.softmax_grad(Z)\n",
        "            else:\n",
        "                raise ValueError(\"Invalid activation function.\")\n",
        "\n",
        "    def verify_args(self):\n",
        "        if self.batch_size > self.inputs.size(0):\n",
        "            raise ValueError('Mini-batch size cannot be larger than data set.')\n",
        "\n",
        "    def initialize_weights(self):\n",
        "        num_categories = self.tensor_width(self.labels)\n",
        "        num_features = self.inputs.size(1)\n",
        "        self.W = torch.normal(0., 1., [num_features, self.hidden_layer_width])\n",
        "        self.W = self.W.to(self.device)\n",
        "        self.V = torch.normal(0., 1., [self.hidden_layer_width, num_categories])\n",
        "        self.V = self.V.to(self.device)\n",
        "\n",
        "    def set_ith_batch(self, i):\n",
        "        \"\"\"Selects a mini-batch of samples allowing for wraparound.\n",
        "        \"\"\"\n",
        "\n",
        "        first_sample = i * self.batch_size % self.labels.size(0)\n",
        "\n",
        "        if self.batch_size <= (self.inputs.size(0) - first_sample):\n",
        "            self.X = self.inputs[first_sample:first_sample + self.batch_size, :]\n",
        "            self.Y = self.labels[first_sample:first_sample + self.batch_size, :]\n",
        "        else:\n",
        "            input_end = self.inputs[first_sample:, :]\n",
        "            label_end = self.labels[first_sample:, :]\n",
        "            input_wraparound = self.inputs[:(self.batch_size - len(input_end)), :]\n",
        "            label_wraparound = self.labels[:(self.batch_size - len(label_end)), :]\n",
        "            self.X = torch.cat((input_end, input_wraparound))\n",
        "            self.Y = torch.cat((label_end, label_wraparound))\n",
        "        self.X = self.X.to(self.device)\n",
        "        self.Y = self.Y.to(self.device)\n",
        "\n",
        "    def predict_one_batch(self):\n",
        "        # N = number of instances in mini batch\n",
        "        # M = number of hidden units\n",
        "        # C = number of output categories\n",
        "        self.Z1 = torch.mm(self.X, self.W)  # (N x D) x (D x M) -> (N x M)\n",
        "        self.A1 = self.activation(self.Z1)\n",
        "        self.Z2 = torch.mm(self.A1, self.V)  # (N x M) x (M x C) -> (N x C)\n",
        "        self.Y_hat = self.activation(self.Z2, output=True)\n",
        "\n",
        "    def train_one_batch(self):\n",
        "        self.predict_one_batch()\n",
        "        delta_V = 0\n",
        "        delta_W = 0\n",
        "        for i in range(self.batch_size):\n",
        "            # Accumulate gradients for W and V.\n",
        "            loss_and_softmax_grad = self.Y_hat[i, :] - self.Y[i, :]\n",
        "            delta_V += torch.ger(self.A1[i, :], loss_and_softmax_grad)\n",
        "            row_calculation = torch.mv(self.V, loss_and_softmax_grad) * self.activation(self.Z1[i, :], derivative=True)\n",
        "            delta_W += torch.ger(self.X[i, :], row_calculation)\n",
        "        # Average gradients.\n",
        "        delta_V /= self.batch_size\n",
        "        delta_W /= self.batch_size\n",
        "        # Gradient descent.\n",
        "        self.V -= self.learning_rate * delta_V\n",
        "        self.W -= self.learning_rate * delta_W\n",
        "\n",
        "    def train(self, inputs, labels):\n",
        "        self.inputs = inputs\n",
        "        self.inputs = self.inputs.to(self.device)\n",
        "        self.labels = self.matrixify(labels)\n",
        "        self.labels = self.labels.to(self.device)\n",
        "        self.verify_args()\n",
        "        self.initialize_weights()\n",
        "        for i in range(self.n_iter):\n",
        "            self.set_ith_batch(i)\n",
        "            self.train_one_batch()"
      ],
      "execution_count": 0,
      "outputs": []
    },
    {
      "cell_type": "code",
      "metadata": {
        "id": "x9GjT-mli6yx",
        "colab_type": "code",
        "outputId": "db07b75f-4f6f-4019-85d1-6847f8851928",
        "colab": {
          "base_uri": "https://localhost:8080/",
          "height": 51
        }
      },
      "source": [
        "batch_size = None\n",
        "\n",
        "transform = transforms.Compose([transforms.ToTensor(), transforms.Normalize((0.5, 0.5, 0.5), (0.5, 0.5, 0.5))])\n",
        "\n",
        "train_dataset = torchvision.datasets.CIFAR10('/content/sample_data/', download=True, transform=transform)\n",
        "train_loader = DataLoader(train_dataset, batch_size=batch_size, shuffle=True, num_workers=2)\n",
        "\n",
        "test_dataset = torchvision.datasets.CIFAR10('/content/sample_data/', download=True, train=False, transform=transform)\n",
        "test_loader = DataLoader(test_dataset, batch_size=batch_size, shuffle=True, num_workers=2)"
      ],
      "execution_count": 6,
      "outputs": [
        {
          "output_type": "stream",
          "text": [
            "Files already downloaded and verified\n",
            "Files already downloaded and verified\n"
          ],
          "name": "stdout"
        }
      ]
    },
    {
      "cell_type": "code",
      "metadata": {
        "id": "Oh_HzLoPlOLu",
        "colab_type": "code",
        "outputId": "7c1e9bd0-26a5-48a9-b396-11e568feb4c9",
        "colab": {
          "base_uri": "https://localhost:8080/",
          "height": 532
        }
      },
      "source": [
        "classes = ('plane', 'car', 'bird', 'cat',\n",
        "           'deer', 'dog', 'frog', 'horse', 'ship', 'truck')\n",
        "\n",
        "def image_show(img):\n",
        "  img = img/2 + 0.5\n",
        "  np_img = img.numpy()\n",
        "  plt.imshow(np.transpose(np_img, (1, 2, 0)))\n",
        "  plt.show()\n",
        "\n",
        "data_iter = iter(train_loader)\n",
        "images, labels = data_iter.next()\n",
        "\n",
        "image_show(torchvision.utils.make_grid(images))\n",
        "print(' '.join('%5s' % classes[labels[j]] for j in range(4))) "
      ],
      "execution_count": 7,
      "outputs": [
        {
          "output_type": "display_data",
          "data": {
            "image/png": "[encoded data removed]",
            "text/plain": [
              "<Figure size 432x288 with 1 Axes>"
            ]
          },
          "metadata": {
            "tags": [],
            "needs_background": "light"
          }
        },
        {
          "output_type": "error",
          "ename": "TypeError",
          "evalue": "ignored",
          "traceback": [
            "\u001b[0;31m---------------------------------------------------------------------------\u001b[0m",
            "\u001b[0;31mTypeError\u001b[0m                                 Traceback (most recent call last)",
            "\u001b[0;32m<ipython-input-7-9fd875c6a715>\u001b[0m in \u001b[0;36m<module>\u001b[0;34m()\u001b[0m\n\u001b[1;32m     12\u001b[0m \u001b[0;34m\u001b[0m\u001b[0m\n\u001b[1;32m     13\u001b[0m \u001b[0mimage_show\u001b[0m\u001b[0;34m(\u001b[0m\u001b[0mtorchvision\u001b[0m\u001b[0;34m.\u001b[0m\u001b[0mutils\u001b[0m\u001b[0;34m.\u001b[0m\u001b[0mmake_grid\u001b[0m\u001b[0;34m(\u001b[0m\u001b[0mimages\u001b[0m\u001b[0;34m)\u001b[0m\u001b[0;34m)\u001b[0m\u001b[0;34m\u001b[0m\u001b[0;34m\u001b[0m\u001b[0m\n\u001b[0;32m---> 14\u001b[0;31m \u001b[0mprint\u001b[0m\u001b[0;34m(\u001b[0m\u001b[0;34m' '\u001b[0m\u001b[0;34m.\u001b[0m\u001b[0mjoin\u001b[0m\u001b[0;34m(\u001b[0m\u001b[0;34m'%5s'\u001b[0m \u001b[0;34m%\u001b[0m \u001b[0mclasses\u001b[0m\u001b[0;34m[\u001b[0m\u001b[0mlabels\u001b[0m\u001b[0;34m[\u001b[0m\u001b[0mj\u001b[0m\u001b[0;34m]\u001b[0m\u001b[0;34m]\u001b[0m \u001b[0;32mfor\u001b[0m \u001b[0mj\u001b[0m \u001b[0;32min\u001b[0m \u001b[0mrange\u001b[0m\u001b[0;34m(\u001b[0m\u001b[0;36m4\u001b[0m\u001b[0;34m)\u001b[0m\u001b[0;34m)\u001b[0m\u001b[0;34m)\u001b[0m\u001b[0;34m\u001b[0m\u001b[0;34m\u001b[0m\u001b[0m\n\u001b[0m",
            "\u001b[0;32m<ipython-input-7-9fd875c6a715>\u001b[0m in \u001b[0;36m<genexpr>\u001b[0;34m(.0)\u001b[0m\n\u001b[1;32m     12\u001b[0m \u001b[0;34m\u001b[0m\u001b[0m\n\u001b[1;32m     13\u001b[0m \u001b[0mimage_show\u001b[0m\u001b[0;34m(\u001b[0m\u001b[0mtorchvision\u001b[0m\u001b[0;34m.\u001b[0m\u001b[0mutils\u001b[0m\u001b[0;34m.\u001b[0m\u001b[0mmake_grid\u001b[0m\u001b[0;34m(\u001b[0m\u001b[0mimages\u001b[0m\u001b[0;34m)\u001b[0m\u001b[0;34m)\u001b[0m\u001b[0;34m\u001b[0m\u001b[0;34m\u001b[0m\u001b[0m\n\u001b[0;32m---> 14\u001b[0;31m \u001b[0mprint\u001b[0m\u001b[0;34m(\u001b[0m\u001b[0;34m' '\u001b[0m\u001b[0;34m.\u001b[0m\u001b[0mjoin\u001b[0m\u001b[0;34m(\u001b[0m\u001b[0;34m'%5s'\u001b[0m \u001b[0;34m%\u001b[0m \u001b[0mclasses\u001b[0m\u001b[0;34m[\u001b[0m\u001b[0mlabels\u001b[0m\u001b[0;34m[\u001b[0m\u001b[0mj\u001b[0m\u001b[0;34m]\u001b[0m\u001b[0;34m]\u001b[0m \u001b[0;32mfor\u001b[0m \u001b[0mj\u001b[0m \u001b[0;32min\u001b[0m \u001b[0mrange\u001b[0m\u001b[0;34m(\u001b[0m\u001b[0;36m4\u001b[0m\u001b[0;34m)\u001b[0m\u001b[0;34m)\u001b[0m\u001b[0;34m)\u001b[0m\u001b[0;34m\u001b[0m\u001b[0;34m\u001b[0m\u001b[0m\n\u001b[0m",
            "\u001b[0;31mTypeError\u001b[0m: 'int' object is not subscriptable"
          ]
        }
      ]
    },
    {
      "cell_type": "code",
      "metadata": {
        "id": "L5g6SQNzHQ-l",
        "colab_type": "code",
        "colab": {
          "base_uri": "https://localhost:8080/",
          "height": 34
        },
        "outputId": "d39481b9-b8f7-4072-e070-38aafda1dd6c"
      },
      "source": [
        "labels"
      ],
      "execution_count": 4,
      "outputs": [
        {
          "output_type": "execute_result",
          "data": {
            "text/plain": [
              "tensor([6, 9, 0, 7])"
            ]
          },
          "metadata": {
            "tags": []
          },
          "execution_count": 4
        }
      ]
    },
    {
      "cell_type": "code",
      "metadata": {
        "id": "zGjfe774l0Fb",
        "colab_type": "code",
        "colab": {}
      },
      "source": [
        "for i, data in enumerate(train_loader):\n",
        "  inputs, labels = data\n",
        "  # Do stuff to a mini-batch here."
      ],
      "execution_count": 0,
      "outputs": []
    },
    {
      "cell_type": "code",
      "metadata": {
        "id": "VWH9PiITG9aV",
        "colab_type": "code",
        "colab": {}
      },
      "source": [
        "# inputs.shape # 4 images, 3 channels of colour, 32 x 32"
      ],
      "execution_count": 0,
      "outputs": []
    },
    {
      "cell_type": "code",
      "metadata": {
        "id": "cA3PGGSpIcZh",
        "colab_type": "code",
        "colab": {
          "base_uri": "https://localhost:8080/",
          "height": 164
        },
        "outputId": "2f34a9d9-16cc-4216-8ceb-dc9445f66e35"
      },
      "source": [
        "test = torch.flatten(inputs[0]) # flatten for use with MLP"
      ],
      "execution_count": 7,
      "outputs": [
        {
          "output_type": "error",
          "ename": "NameError",
          "evalue": "ignored",
          "traceback": [
            "\u001b[0;31m---------------------------------------------------------------------------\u001b[0m",
            "\u001b[0;31mNameError\u001b[0m                                 Traceback (most recent call last)",
            "\u001b[0;32m<ipython-input-7-4f1fb0ae9563>\u001b[0m in \u001b[0;36m<module>\u001b[0;34m()\u001b[0m\n\u001b[0;32m----> 1\u001b[0;31m \u001b[0mtest\u001b[0m \u001b[0;34m=\u001b[0m \u001b[0mtorch\u001b[0m\u001b[0;34m.\u001b[0m\u001b[0mflatten\u001b[0m\u001b[0;34m(\u001b[0m\u001b[0minputs\u001b[0m\u001b[0;34m[\u001b[0m\u001b[0;36m0\u001b[0m\u001b[0;34m]\u001b[0m\u001b[0;34m)\u001b[0m \u001b[0;31m# flatten for use with MLP\u001b[0m\u001b[0;34m\u001b[0m\u001b[0;34m\u001b[0m\u001b[0m\n\u001b[0m",
            "\u001b[0;31mNameError\u001b[0m: name 'inputs' is not defined"
          ]
        }
      ]
    }
  ]
}