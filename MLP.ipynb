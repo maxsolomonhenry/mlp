{
  "nbformat": 4,
  "nbformat_minor": 0,
  "metadata": {
    "colab": {
      "name": "MLP.ipynb",
      "provenance": [],
      "collapsed_sections": [],
      "authorship_tag": "ABX9TyOt06++wLuizlXLl+y35erg",
      "include_colab_link": true
    },
    "kernelspec": {
      "name": "python3",
      "display_name": "Python 3"
    },
    "accelerator": "GPU",
    "widgets": {
      "application/vnd.jupyter.widget-state+json": {
        "b01f6901800f4fbf8651af4fc0e63e0c": {
          "model_module": "@jupyter-widgets/controls",
          "model_name": "HBoxModel",
          "state": {
            "_view_name": "HBoxView",
            "_dom_classes": [],
            "_model_name": "HBoxModel",
            "_view_module": "@jupyter-widgets/controls",
            "_model_module_version": "1.5.0",
            "_view_count": null,
            "_view_module_version": "1.5.0",
            "box_style": "",
            "layout": "IPY_MODEL_37220c8b0f114485b4653a7c107c4da9",
            "_model_module": "@jupyter-widgets/controls",
            "children": [
              "IPY_MODEL_5ea81fa88e5949c4bfbdd31e401c45d2",
              "IPY_MODEL_1634e83dd67549e6babd88a60af8aabf"
            ]
          }
        },
        "37220c8b0f114485b4653a7c107c4da9": {
          "model_module": "@jupyter-widgets/base",
          "model_name": "LayoutModel",
          "state": {
            "_view_name": "LayoutView",
            "grid_template_rows": null,
            "right": null,
            "justify_content": null,
            "_view_module": "@jupyter-widgets/base",
            "overflow": null,
            "_model_module_version": "1.2.0",
            "_view_count": null,
            "flex_flow": null,
            "width": null,
            "min_width": null,
            "border": null,
            "align_items": null,
            "bottom": null,
            "_model_module": "@jupyter-widgets/base",
            "top": null,
            "grid_column": null,
            "overflow_y": null,
            "overflow_x": null,
            "grid_auto_flow": null,
            "grid_area": null,
            "grid_template_columns": null,
            "flex": null,
            "_model_name": "LayoutModel",
            "justify_items": null,
            "grid_row": null,
            "max_height": null,
            "align_content": null,
            "visibility": null,
            "align_self": null,
            "height": null,
            "min_height": null,
            "padding": null,
            "grid_auto_rows": null,
            "grid_gap": null,
            "max_width": null,
            "order": null,
            "_view_module_version": "1.2.0",
            "grid_template_areas": null,
            "object_position": null,
            "object_fit": null,
            "grid_auto_columns": null,
            "margin": null,
            "display": null,
            "left": null
          }
        },
        "5ea81fa88e5949c4bfbdd31e401c45d2": {
          "model_module": "@jupyter-widgets/controls",
          "model_name": "IntProgressModel",
          "state": {
            "_view_name": "ProgressView",
            "style": "IPY_MODEL_f1decd7b272043db904c5f38a334b6e5",
            "_dom_classes": [],
            "description": "",
            "_model_name": "IntProgressModel",
            "bar_style": "info",
            "max": 1,
            "_view_module": "@jupyter-widgets/controls",
            "_model_module_version": "1.5.0",
            "value": 1,
            "_view_count": null,
            "_view_module_version": "1.5.0",
            "orientation": "horizontal",
            "min": 0,
            "description_tooltip": null,
            "_model_module": "@jupyter-widgets/controls",
            "layout": "IPY_MODEL_39b507e1b43b424497fb70d00191ad12"
          }
        },
        "1634e83dd67549e6babd88a60af8aabf": {
          "model_module": "@jupyter-widgets/controls",
          "model_name": "HTMLModel",
          "state": {
            "_view_name": "HTMLView",
            "style": "IPY_MODEL_0c8b33fc9df94340bc4bb9f0a2b5b9d6",
            "_dom_classes": [],
            "description": "",
            "_model_name": "HTMLModel",
            "placeholder": "​",
            "_view_module": "@jupyter-widgets/controls",
            "_model_module_version": "1.5.0",
            "value": " 170500096/? [00:19&lt;00:00, 98894220.24it/s]",
            "_view_count": null,
            "_view_module_version": "1.5.0",
            "description_tooltip": null,
            "_model_module": "@jupyter-widgets/controls",
            "layout": "IPY_MODEL_d87675640bbc4891be96f650f67df6ab"
          }
        },
        "f1decd7b272043db904c5f38a334b6e5": {
          "model_module": "@jupyter-widgets/controls",
          "model_name": "ProgressStyleModel",
          "state": {
            "_view_name": "StyleView",
            "_model_name": "ProgressStyleModel",
            "description_width": "initial",
            "_view_module": "@jupyter-widgets/base",
            "_model_module_version": "1.5.0",
            "_view_count": null,
            "_view_module_version": "1.2.0",
            "bar_color": null,
            "_model_module": "@jupyter-widgets/controls"
          }
        },
        "39b507e1b43b424497fb70d00191ad12": {
          "model_module": "@jupyter-widgets/base",
          "model_name": "LayoutModel",
          "state": {
            "_view_name": "LayoutView",
            "grid_template_rows": null,
            "right": null,
            "justify_content": null,
            "_view_module": "@jupyter-widgets/base",
            "overflow": null,
            "_model_module_version": "1.2.0",
            "_view_count": null,
            "flex_flow": null,
            "width": null,
            "min_width": null,
            "border": null,
            "align_items": null,
            "bottom": null,
            "_model_module": "@jupyter-widgets/base",
            "top": null,
            "grid_column": null,
            "overflow_y": null,
            "overflow_x": null,
            "grid_auto_flow": null,
            "grid_area": null,
            "grid_template_columns": null,
            "flex": null,
            "_model_name": "LayoutModel",
            "justify_items": null,
            "grid_row": null,
            "max_height": null,
            "align_content": null,
            "visibility": null,
            "align_self": null,
            "height": null,
            "min_height": null,
            "padding": null,
            "grid_auto_rows": null,
            "grid_gap": null,
            "max_width": null,
            "order": null,
            "_view_module_version": "1.2.0",
            "grid_template_areas": null,
            "object_position": null,
            "object_fit": null,
            "grid_auto_columns": null,
            "margin": null,
            "display": null,
            "left": null
          }
        },
        "0c8b33fc9df94340bc4bb9f0a2b5b9d6": {
          "model_module": "@jupyter-widgets/controls",
          "model_name": "DescriptionStyleModel",
          "state": {
            "_view_name": "StyleView",
            "_model_name": "DescriptionStyleModel",
            "description_width": "",
            "_view_module": "@jupyter-widgets/base",
            "_model_module_version": "1.5.0",
            "_view_count": null,
            "_view_module_version": "1.2.0",
            "_model_module": "@jupyter-widgets/controls"
          }
        },
        "d87675640bbc4891be96f650f67df6ab": {
          "model_module": "@jupyter-widgets/base",
          "model_name": "LayoutModel",
          "state": {
            "_view_name": "LayoutView",
            "grid_template_rows": null,
            "right": null,
            "justify_content": null,
            "_view_module": "@jupyter-widgets/base",
            "overflow": null,
            "_model_module_version": "1.2.0",
            "_view_count": null,
            "flex_flow": null,
            "width": null,
            "min_width": null,
            "border": null,
            "align_items": null,
            "bottom": null,
            "_model_module": "@jupyter-widgets/base",
            "top": null,
            "grid_column": null,
            "overflow_y": null,
            "overflow_x": null,
            "grid_auto_flow": null,
            "grid_area": null,
            "grid_template_columns": null,
            "flex": null,
            "_model_name": "LayoutModel",
            "justify_items": null,
            "grid_row": null,
            "max_height": null,
            "align_content": null,
            "visibility": null,
            "align_self": null,
            "height": null,
            "min_height": null,
            "padding": null,
            "grid_auto_rows": null,
            "grid_gap": null,
            "max_width": null,
            "order": null,
            "_view_module_version": "1.2.0",
            "grid_template_areas": null,
            "object_position": null,
            "object_fit": null,
            "grid_auto_columns": null,
            "margin": null,
            "display": null,
            "left": null
          }
        }
      }
    }
  },
  "cells": [
    {
      "cell_type": "markdown",
      "metadata": {
        "id": "view-in-github",
        "colab_type": "text"
      },
      "source": [
        "<a href=\"https://colab.research.google.com/github/maxsolomonhenry/mlp/blob/master/MLP.ipynb\" target=\"_parent\"><img src=\"https://colab.research.google.com/assets/colab-badge.svg\" alt=\"Open In Colab\"/></a>"
      ]
    },
    {
      "cell_type": "code",
      "metadata": {
        "id": "Ex5_sTE_iOCe",
        "colab_type": "code",
        "colab": {}
      },
      "source": [
        "import time\n",
        "import numpy as np\n",
        "import matplotlib.pyplot as plt\n",
        "import torch\n",
        "import torchvision\n",
        "import torchvision.transforms as transforms\n",
        "from torch.utils.data import DataLoader, Dataset\n",
        "from sklearn.model_selection import KFold\n",
        "from sklearn import metrics"
      ],
      "execution_count": 0,
      "outputs": []
    },
    {
      "cell_type": "markdown",
      "metadata": {
        "id": "L9Pqbt8Q9lH_",
        "colab_type": "text"
      },
      "source": [
        "Two Layer Multilayer Perceptron Class:"
      ]
    },
    {
      "cell_type": "code",
      "metadata": {
        "id": "QEBIWsV_zZoM",
        "colab_type": "code",
        "colab": {}
      },
      "source": [
        "# Todo:\n",
        "#       dropout w/ probability.\n",
        "#       cost on train vs. validation set graph.\n",
        "\n",
        "\n",
        "class TwoLayerMLP:\n",
        "    def __init__(self, n_epochs=2, learning_rate=0.1, batch_size=32, n_inputs=3072, n_outputs=10,\n",
        "                 hidden_layer_width=100, hidden_activation='relu', momentum = 0.99, lr_decay=True, verbose=False,\n",
        "                 show_plots=False):\n",
        "        self.device = torch.device(\"cuda\" if torch.cuda.is_available() else \"cpu\")\n",
        "        self.n_epochs = n_epochs\n",
        "        self.learning_rate = learning_rate\n",
        "        self.batch_size = batch_size\n",
        "        self.n_inputs = n_inputs\n",
        "        self.n_outputs = n_outputs\n",
        "        self.hidden_layer_width = hidden_layer_width\n",
        "        self.hidden_activation = hidden_activation\n",
        "        self.momentum = momentum\n",
        "        self.verbose = verbose\n",
        "        self.show_plots = show_plots\n",
        "        self.V = torch.tensor([])\n",
        "        self.W = torch.tensor([])\n",
        "        self.momentum_V = torch.tensor([])\n",
        "        self.momentum_W = torch.tensor([])\n",
        "        self.inputs = torch.tensor([])\n",
        "        self.labels = torch.tensor([])\n",
        "        self.X = torch.tensor([])\n",
        "        self.Y = torch.tensor([])\n",
        "        self.Y_hat = torch.tensor([])\n",
        "        self.A1 = torch.tensor([])\n",
        "        self.Z1 = torch.tensor([])\n",
        "        self.Z2 = torch.tensor([])\n",
        "        self.test_Y = torch.tensor([])\n",
        "        self.test_Y_hat = torch.tensor([])\n",
        "        self.cost = []\n",
        "        self.accuracy = []\n",
        "        self.prfs = []\n",
        "        self.lr_decay_rate = 0\n",
        "\n",
        "        if lr_decay:\n",
        "          self.lr_decay_rate = self.learning_rate/self.n_epochs \n",
        "\n",
        "\n",
        "    @staticmethod\n",
        "    def hyperbolic_tangent(Z):\n",
        "        return Z.tanh()\n",
        "\n",
        "    @staticmethod\n",
        "    def hyperbolic_tangent_derivative(Z):\n",
        "        return 1 - Z.tanh() ** 2\n",
        "\n",
        "    @staticmethod\n",
        "    def sigmoid(Z):\n",
        "        return 1 / (1 + torch.exp(-Z))\n",
        "\n",
        "    @staticmethod\n",
        "    def relu(Z):\n",
        "        return torch.clamp(Z, min=0)\n",
        "\n",
        "    @staticmethod\n",
        "    def relu_subgradient(Z):\n",
        "        return torch.clamp(torch.sign(Z), min=0)\n",
        "\n",
        "    @staticmethod\n",
        "    def softmax(Z):\n",
        "        # Transposing is to allow for row-wise operations (with built-in broadcasting)\n",
        "        max_dim = 1\n",
        "        if Z.ndim == 1:\n",
        "            max_dim = 0\n",
        "        Z0_transpose = Z.t() - Z.max(max_dim)[0]\n",
        "        Y_hat_transpose = torch.exp(Z0_transpose)\n",
        "        Y_hat_transpose /= Y_hat_transpose.sum(0)\n",
        "        Y_hat = Y_hat_transpose.t()\n",
        "        return Y_hat\n",
        "\n",
        "    @staticmethod\n",
        "    def cross_entropy_loss(y_hat, y):\n",
        "        return -torch.dot(y, torch.log(y_hat + 1e-9))\n",
        "\n",
        "    @staticmethod\n",
        "    def cross_entropy_grad(y_hat, y):\n",
        "        return -(y * 1 / y_hat) + (1 - y) * (1 / (1 - y_hat))\n",
        "\n",
        "    @staticmethod\n",
        "    def tensor_width(tensor):\n",
        "        if len(list(tensor.shape)) == 2:\n",
        "            return tensor.size(1)\n",
        "        elif len(list(tensor.shape)) == 1:\n",
        "            return 1\n",
        "        else:\n",
        "            raise ValueError('Tensor must be one or two dimensions.')\n",
        "\n",
        "    def batch_cross_entropy_loss(self):\n",
        "        cost = 0\n",
        "        for i in range(self.Y.shape[0]):\n",
        "            cost += self.cross_entropy_loss(self.Y_hat[i, :], self.Y[i, :])\n",
        "        cost /= self.Y.shape[0]\n",
        "        return cost\n",
        "\n",
        "    def matrixify(self, y):\n",
        "        y = y.long()\n",
        "        n_instances = y.shape[0]\n",
        "        Y = torch.zeros(n_instances, self.n_outputs)\n",
        "        for i in range(n_instances):\n",
        "            Y[i, y[i]] = 1\n",
        "        return Y\n",
        "\n",
        "    def sigmoid_derivative(self, Z):\n",
        "        return self.sigmoid(Z) * (1 - self.sigmoid(Z))\n",
        "\n",
        "    def softmax_grad(self, Z):\n",
        "        # This code adapted from https://link.medium.com/OgOkKMjCz5\n",
        "        soft_max_result = self.softmax(Z)\n",
        "        reshaped = soft_max_result.view(-1, 1)\n",
        "        return torch.diagflat(reshaped) - torch.ger(reshaped[:, 0], reshaped[:, 0])\n",
        "\n",
        "    def activation(self, Z, output=False, derivative=False):\n",
        "        if not output:\n",
        "            function = self.hidden_activation\n",
        "        else:\n",
        "            function = 'softmax'\n",
        "\n",
        "        if not derivative:\n",
        "            if function == 'relu':\n",
        "                return self.relu(Z)\n",
        "            elif function == 'tanh':\n",
        "                return self.hyperbolic_tangent(Z)\n",
        "            elif function == 'sigmoid':\n",
        "                return self.sigmoid(Z)\n",
        "            elif function == 'softmax':\n",
        "                return self.softmax(Z)\n",
        "            else:\n",
        "                raise ValueError(\"Invalid activation function.\")\n",
        "        else:\n",
        "            if function == 'relu':\n",
        "                return self.relu_subgradient(Z)\n",
        "            elif function == 'tanh':\n",
        "                return self.hyperbolic_tangent_derivative(Z)\n",
        "            elif function == 'sigmoid':\n",
        "                return self.sigmoid_derivative(Z)\n",
        "            elif function == 'softmax':\n",
        "                return self.softmax_grad(Z)\n",
        "            else:\n",
        "                raise ValueError(\"Invalid activation function.\")\n",
        "\n",
        "    def initialize_weights(self):\n",
        "        num_categories = self.n_outputs\n",
        "        num_features = self.n_inputs\n",
        "        self.W = torch.normal(0., 1., [num_features, self.hidden_layer_width])\n",
        "        self.W = self.W.to(self.device)\n",
        "        self.V = torch.normal(0., 1., [self.hidden_layer_width, num_categories])\n",
        "        self.V = self.V.to(self.device)\n",
        "        self.momentum_W = torch.zeros([num_features, self.hidden_layer_width])\n",
        "        self.momentum_W = self.momentum_W.to(self.device)\n",
        "        self.momentum_V = torch.zeros([self.hidden_layer_width, num_categories])\n",
        "        self.momentum_V = self.momentum_V.to(self.device)\n",
        "\n",
        "    def set_XY(self, data):\n",
        "        images = data[0]\n",
        "        labels = data[1]\n",
        "        self.X = images.flatten(start_dim=1)\n",
        "        self.X = self.X.to(self.device)\n",
        "        self.Y = self.matrixify(labels)\n",
        "        self.Y = self.Y.to(self.device)\n",
        "\n",
        "    def predict_one_batch(self):\n",
        "        # N = number of instances in mini batch\n",
        "        # M = number of hidden units\n",
        "        # C = number of output categories\n",
        "        self.Z1 = torch.mm(self.X, self.W)  # (N x D) x (D x M) -> (N x M)\n",
        "        self.A1 = self.activation(self.Z1)\n",
        "        self.Z2 = torch.mm(self.A1, self.V)  # (N x M) x (M x C) -> (N x C)\n",
        "        self.Y_hat = self.activation(self.Z2, output=True)\n",
        "\n",
        "    def train_one_batch(self):\n",
        "        self.predict_one_batch()\n",
        "\n",
        "        delta_V = torch.zeros([self.V.shape[0], self.V.shape[1]])\n",
        "        delta_V = delta_V.to(self.device)\n",
        "        delta_W = torch.zeros([self.W.shape[0], self.W.shape[1]])\n",
        "        delta_W = delta_W.to(self.device)\n",
        "\n",
        "        n_instances = self.Y_hat.shape[0]\n",
        "        for i in range(n_instances):\n",
        "            \"\"\"Accumulate gradients for W and V.\n",
        "            Note that this is done in mini-batch form, based on the calculation:\n",
        "              y_hat = g([h(XW)]V),\n",
        "            where X is the design matrix. As a result, the dimensions of W and V \n",
        "            are transposed when compared to the notes in class.\n",
        "            \"\"\"\n",
        "            loss_and_softmax_grad = self.Y_hat[i, :] - self.Y[i, :]  # (C) vector\n",
        "            delta_V += torch.ger(self.A1[i, :], loss_and_softmax_grad)  # outer product makes (M x C) matrix\n",
        "            row_calculation = torch.mv(self.V, loss_and_softmax_grad) * self.activation(self.Z1[i, :], derivative=True)  # (M) vector\n",
        "            delta_W += torch.ger(self.X[i, :], row_calculation)  # outer product makes (D x M) matrix\n",
        "        # Average gradients.\n",
        "        delta_V /= self.batch_size\n",
        "        delta_W /= self.batch_size\n",
        "        # Add momentum.\n",
        "        delta_V = (1 - self.momentum) * delta_V + self.momentum * self.momentum_V\n",
        "        delta_W = (1 - self.momentum) * delta_W + self.momentum * self.momentum_W\n",
        "        # Gradient descent.\n",
        "        self.V -= self.learning_rate * delta_V\n",
        "        self.W -= self.learning_rate * delta_W\n",
        "        # Save gradient values for momentum.\n",
        "        self.momentum_V = delta_V\n",
        "        self.momentum_W = delta_W\n",
        "\n",
        "    def train_one_epoch(self, train_loader):\n",
        "        for i, data in enumerate(train_loader):\n",
        "            self.set_XY(data)\n",
        "            self.train_one_batch()\n",
        "            self.cost.append(self.batch_cross_entropy_loss())\n",
        "\n",
        "    def plot_cost(self):\n",
        "        plt.plot(self.cost)\n",
        "        plt.ylabel('Cost')\n",
        "        plt.xlabel('Mini-batches')\n",
        "        plt.show()\n",
        "    \n",
        "    def train(self, train_dataset):\n",
        "        train_loader = DataLoader(train_dataset, batch_size=self.batch_size, shuffle=True)\n",
        "        self.initialize_weights()\n",
        "        self.cost = []\n",
        "        for i in range(self.n_epochs):\n",
        "            self.train_one_epoch(train_loader)\n",
        "            self.learning_rate /= (1 + self.lr_decay_rate*i)\n",
        "            if self.verbose: print(\"Finished training epoch %d.\" % (i+1))\n",
        "        if self.show_plots:\n",
        "            self.plot_cost()\n",
        "\n",
        "    def initialize_test_Ys(self):\n",
        "      self.test_Y = torch.tensor([])\n",
        "      self.test_Y_hat = torch.tensor([])\n",
        "\n",
        "    def accumulate_test_Ys(self):\n",
        "      if self.test_Y.nelement() == 0:\n",
        "        self.test_Y = self.Y.to(device='cpu')\n",
        "        self.test_Y_hat = self.Y_hat.to(device='cpu')\n",
        "      else:\n",
        "        self.test_Y = torch.cat([self.test_Y, self.Y.to(device='cpu')])\n",
        "        self.test_Y_hat = torch.cat([self.test_Y_hat, self.Y_hat.to(device='cpu')])\n",
        "\n",
        "    def test(self, test_dataset, final_test=False):\n",
        "        test_loader = DataLoader(test_dataset, batch_size=self.batch_size, shuffle=True)\n",
        "        self.initialize_test_Ys()\n",
        "        for i, data in enumerate(test_loader):\n",
        "          self.set_XY(data)\n",
        "          self.predict_one_batch()\n",
        "          self.accumulate_test_Ys()\n",
        "        if final_test:\n",
        "          self.evaluate_final()\n",
        "\n",
        "    def convert_to_01(self, soft_input):\n",
        "        return self.matrixify(soft_input.max(dim=1)[1])\n",
        "\n",
        "    def initialize_metrics(self):\n",
        "      self.accuracy = []\n",
        "      # self.prfs = []\n",
        "\n",
        "    def evaluate_fold(self, i=0):\n",
        "      test_Y_hat_01 = self.convert_to_01(self.test_Y_hat)\n",
        "      self.accuracy.append(metrics.accuracy_score(self.test_Y, test_Y_hat_01))\n",
        "      # self.prfs.append(metrics.precision_recall_fscore_support(self.Y, Y_hat_01, average='micro'))\n",
        "      if self.verbose:\n",
        "        print(\"Fold %d:\\n\\tacc. = %f\" %(i+1, self.accuracy[i]))\n",
        "\n",
        "    def evaluate_final(self):\n",
        "        test_Y_hat_01 = self.convert_to_01(self.test_Y_hat)\n",
        "        final_acc = metrics.accuracy_score(self.test_Y, test_Y_hat_01)\n",
        "        print(\"Test accuracy: %f\" %final_acc)\n",
        "\n",
        "    def display_average_metrics(self):\n",
        "      ave_acc = sum(self.accuracy)/len(self.accuracy)\n",
        "      print(\"------- Final acc. = %f -------\" %ave_acc)\n",
        "\n",
        "    def cross_validate(self, kfold_dataset, n_splits=5):\n",
        "      self.initialize_metrics()\n",
        "      kf = KFold(n_splits=n_splits, shuffle=True)\n",
        "      for i, (train_index, validate_index) in enumerate(kf.split(kfold_dataset)):\n",
        "          kfold_train = torch.utils.data.Subset(kfold_dataset, train_index)\n",
        "          kfold_validate = torch.utils.data.Subset(kfold_dataset, validate_index)\n",
        "\n",
        "          print(\"Training fold %d.\" %(i+1))\n",
        "          self.train(kfold_train)\n",
        "          print(\"Testing fold %d...\" %(i+1))\n",
        "          self.test(kfold_validate)\n",
        "          self.evaluate_fold(i)\n",
        "      self.display_average_metrics()"
      ],
      "execution_count": 0,
      "outputs": []
    },
    {
      "cell_type": "code",
      "metadata": {
        "id": "XNRET38C-fmo",
        "colab_type": "code",
        "outputId": "efa68c8c-b9cf-40d2-fd4d-3cc592bf73e1",
        "colab": {
          "base_uri": "https://localhost:8080/",
          "height": 1000,
          "referenced_widgets": [
            "b01f6901800f4fbf8651af4fc0e63e0c",
            "37220c8b0f114485b4653a7c107c4da9",
            "5ea81fa88e5949c4bfbdd31e401c45d2",
            "1634e83dd67549e6babd88a60af8aabf",
            "f1decd7b272043db904c5f38a334b6e5",
            "39b507e1b43b424497fb70d00191ad12",
            "0c8b33fc9df94340bc4bb9f0a2b5b9d6",
            "d87675640bbc4891be96f650f67df6ab"
          ]
        }
      },
      "source": [
        "# WATCHING COST FUNCTION\n",
        "transform = transforms.Compose([transforms.ToTensor(), transforms.Normalize((0.5, 0.5, 0.5), (0.5, 0.5, 0.5))])\n",
        "kfold_dataset = torchvision.datasets.CIFAR10('/content/sample_data/', download=True, transform=transform)\n",
        "\n",
        "mlp = TwoLayerMLP(hidden_activation='relu', n_epochs=92, batch_size=512, verbose=True, \n",
        "                  learning_rate=0.1, hidden_layer_width=2000, show_plots=True, lr_decay=True, momentum=0.99)\n",
        "t = time.time()\n",
        "mlp.train(kfold_dataset)\n",
        "elapsed = time.time() - t\n",
        "print(\"Elapsed training time: %f\" %elapsed)\n",
        "mlp.test(kfold_dataset, final_test=True)"
      ],
      "execution_count": 3,
      "outputs": [
        {
          "output_type": "stream",
          "text": [
            "Downloading https://www.cs.toronto.edu/~kriz/cifar-10-python.tar.gz to /content/sample_data/cifar-10-python.tar.gz\n"
          ],
          "name": "stdout"
        },
        {
          "output_type": "display_data",
          "data": {
            "application/vnd.jupyter.widget-view+json": {
              "model_id": "b01f6901800f4fbf8651af4fc0e63e0c",
              "version_minor": 0,
              "version_major": 2
            },
            "text/plain": [
              "HBox(children=(IntProgress(value=1, bar_style='info', max=1), HTML(value='')))"
            ]
          },
          "metadata": {
            "tags": []
          }
        },
        {
          "output_type": "stream",
          "text": [
            "Extracting /content/sample_data/cifar-10-python.tar.gz to /content/sample_data/\n",
            "Finished training epoch 1.\n",
            "Finished training epoch 2.\n",
            "Finished training epoch 3.\n",
            "Finished training epoch 4.\n",
            "Finished training epoch 5.\n",
            "Finished training epoch 6.\n",
            "Finished training epoch 7.\n",
            "Finished training epoch 8.\n",
            "Finished training epoch 9.\n",
            "Finished training epoch 10.\n",
            "Finished training epoch 11.\n",
            "Finished training epoch 12.\n",
            "Finished training epoch 13.\n",
            "Finished training epoch 14.\n",
            "Finished training epoch 15.\n",
            "Finished training epoch 16.\n",
            "Finished training epoch 17.\n",
            "Finished training epoch 18.\n",
            "Finished training epoch 19.\n",
            "Finished training epoch 20.\n",
            "Finished training epoch 21.\n",
            "Finished training epoch 22.\n",
            "Finished training epoch 23.\n",
            "Finished training epoch 24.\n",
            "Finished training epoch 25.\n",
            "Finished training epoch 26.\n",
            "Finished training epoch 27.\n",
            "Finished training epoch 28.\n",
            "Finished training epoch 29.\n",
            "Finished training epoch 30.\n",
            "Finished training epoch 31.\n",
            "Finished training epoch 32.\n",
            "Finished training epoch 33.\n",
            "Finished training epoch 34.\n",
            "Finished training epoch 35.\n",
            "Finished training epoch 36.\n",
            "Finished training epoch 37.\n",
            "Finished training epoch 38.\n",
            "Finished training epoch 39.\n",
            "Finished training epoch 40.\n",
            "Finished training epoch 41.\n",
            "Finished training epoch 42.\n",
            "Finished training epoch 43.\n",
            "Finished training epoch 44.\n",
            "Finished training epoch 45.\n",
            "Finished training epoch 46.\n",
            "Finished training epoch 47.\n",
            "Finished training epoch 48.\n",
            "Finished training epoch 49.\n",
            "Finished training epoch 50.\n",
            "Finished training epoch 51.\n",
            "Finished training epoch 52.\n",
            "Finished training epoch 53.\n",
            "Finished training epoch 54.\n",
            "Finished training epoch 55.\n",
            "Finished training epoch 56.\n",
            "Finished training epoch 57.\n",
            "Finished training epoch 58.\n",
            "Finished training epoch 59.\n",
            "Finished training epoch 60.\n",
            "Finished training epoch 61.\n",
            "Finished training epoch 62.\n",
            "Finished training epoch 63.\n",
            "Finished training epoch 64.\n",
            "Finished training epoch 65.\n",
            "Finished training epoch 66.\n",
            "Finished training epoch 67.\n",
            "Finished training epoch 68.\n",
            "Finished training epoch 69.\n",
            "Finished training epoch 70.\n",
            "Finished training epoch 71.\n",
            "Finished training epoch 72.\n",
            "Finished training epoch 73.\n",
            "Finished training epoch 74.\n",
            "Finished training epoch 75.\n",
            "Finished training epoch 76.\n",
            "Finished training epoch 77.\n",
            "Finished training epoch 78.\n",
            "Finished training epoch 79.\n",
            "Finished training epoch 80.\n",
            "Finished training epoch 81.\n",
            "Finished training epoch 82.\n",
            "Finished training epoch 83.\n",
            "Finished training epoch 84.\n",
            "Finished training epoch 85.\n",
            "Finished training epoch 86.\n",
            "Finished training epoch 87.\n",
            "Finished training epoch 88.\n",
            "Finished training epoch 89.\n",
            "Finished training epoch 90.\n",
            "Finished training epoch 91.\n",
            "Finished training epoch 92.\n"
          ],
          "name": "stdout"
        },
        {
          "output_type": "display_data",
          "data": {
            "image/png": "[encoded data removed]",
            "text/plain": [
              "<Figure size 432x288 with 1 Axes>"
            ]
          },
          "metadata": {
            "tags": [],
            "needs_background": "light"
          }
        },
        {
          "output_type": "stream",
          "text": [
            "Test accuracy: 0.975420\n"
          ],
          "name": "stdout"
        }
      ]
    },
    {
      "cell_type": "code",
      "metadata": {
        "id": "os_-B2pFFE50",
        "colab_type": "code",
        "colab": {
          "base_uri": "https://localhost:8080/",
          "height": 282
        },
        "outputId": "db784534-ecba-4928-df2a-83505b00c8fd"
      },
      "source": [
        ""
      ],
      "execution_count": 55,
      "outputs": [
        {
          "output_type": "execute_result",
          "data": {
            "text/plain": [
              "91.83673469387756"
            ]
          },
          "metadata": {
            "tags": []
          },
          "execution_count": 55
        },
        {
          "output_type": "display_data",
          "data": {
            "image/png": "[encoded data removed]",
            "text/plain": [
              "<Figure size 432x288 with 1 Axes>"
            ]
          },
          "metadata": {
            "tags": [],
            "needs_background": "light"
          }
        }
      ]
    },
    {
      "cell_type": "code",
      "metadata": {
        "id": "RvsEz9UL6EYK",
        "colab_type": "code",
        "colab": {
          "base_uri": "https://localhost:8080/",
          "height": 34
        },
        "outputId": "db50ea98-0ca2-496a-d415-ce6b160b5b82"
      },
      "source": [
        "# accuracy = 0\n",
        "# for i in range(mlp.test_Y.shape[0]):\n",
        "#   if (mlp.test_Y[i, :] - mlp.test_Y_hat[i, :]).sum() == 0:\n",
        "#     accuracy += 1\n",
        "# accuracy /= mlp.test_Y.shape[0]\n",
        "# print(accuracy)"
      ],
      "execution_count": 26,
      "outputs": [
        {
          "output_type": "stream",
          "text": [
            "0.08018\n"
          ],
          "name": "stdout"
        }
      ]
    },
    {
      "cell_type": "code",
      "metadata": {
        "id": "nLDBBfF0hqnz",
        "colab_type": "code",
        "outputId": "02143ead-0561-4099-f184-b9336fa3ce21",
        "colab": {
          "base_uri": "https://localhost:8080/",
          "height": 51
        }
      },
      "source": [
        "# RUNNING the FINAL TEST\n",
        "\n",
        "# transform = transforms.Compose([transforms.ToTensor(), transforms.Normalize((0.5, 0.5, 0.5), (0.5, 0.5, 0.5))])\n",
        "test_dataset = torchvision.datasets.CIFAR10('/content/sample_data/', download=True, transform=transform, train=False)\n",
        "# mlp = TwoLayerMLP(hidden_activation='relu', n_epochs=1, batch_size=256, verbose=True, learning_rate=0.01, hidden_layer_width=100)\n",
        "# mlp.train(train_dataset) # train on entire training dataset\n",
        "mlp.test(kfold_dataset, final_test=True)"
      ],
      "execution_count": 5,
      "outputs": [
        {
          "output_type": "stream",
          "text": [
            "Files already downloaded and verified\n",
            "Test accuracy: 0.975420\n"
          ],
          "name": "stdout"
        }
      ]
    },
    {
      "cell_type": "code",
      "metadata": {
        "id": "m12dNZIyyQCk",
        "colab_type": "code",
        "colab": {
          "base_uri": "https://localhost:8080/",
          "height": 34
        },
        "outputId": "a08a060a-15ec-4a13-ac20-6b1b1bca869e"
      },
      "source": [
        "mlp.initialize_weights()\n",
        "mlp.test(kfold_dataset, final_test=True)\n",
        "# print(mlp.V)"
      ],
      "execution_count": 14,
      "outputs": [
        {
          "output_type": "stream",
          "text": [
            "Test accuracy: 0.096480\n"
          ],
          "name": "stdout"
        }
      ]
    },
    {
      "cell_type": "code",
      "metadata": {
        "id": "k3XA5-0IlhlB",
        "colab_type": "code",
        "outputId": "80604e40-43bc-410e-d118-aca718841065",
        "colab": {
          "base_uri": "https://localhost:8080/",
          "height": 358
        }
      },
      "source": [
        "# TESTING KFOLD and METRICS\n",
        "\n",
        "transform = transforms.Compose([transforms.ToTensor(), transforms.Normalize((0.5, 0.5, 0.5), (0.5, 0.5, 0.5))])\n",
        "kfold_dataset = torchvision.datasets.CIFAR10('/content/sample_data/', download=True, transform=transform, train=True)\n",
        "\n",
        "mlp = TwoLayerMLP(hidden_activation='relu', n_epochs=100, batch_size=256, verbose=True, learning_rate=0.01, hidden_layer_width=100)\n",
        "mlp.cross_validate(kfold_dataset, n_splits=2)"
      ],
      "execution_count": 0,
      "outputs": [
        {
          "output_type": "stream",
          "text": [
            "Files already downloaded and verified\n"
          ],
          "name": "stdout"
        },
        {
          "output_type": "error",
          "ename": "ValueError",
          "evalue": "ignored",
          "traceback": [
            "\u001b[0;31m---------------------------------------------------------------------------\u001b[0m",
            "\u001b[0;31mValueError\u001b[0m                                Traceback (most recent call last)",
            "\u001b[0;32m<ipython-input-61-380a21128ac0>\u001b[0m in \u001b[0;36m<module>\u001b[0;34m()\u001b[0m\n\u001b[1;32m      4\u001b[0m \u001b[0;34m\u001b[0m\u001b[0m\n\u001b[1;32m      5\u001b[0m \u001b[0mmlp\u001b[0m \u001b[0;34m=\u001b[0m \u001b[0mTwoLayerMLP\u001b[0m\u001b[0;34m(\u001b[0m\u001b[0mhidden_activation\u001b[0m\u001b[0;34m=\u001b[0m\u001b[0;34m'relu'\u001b[0m\u001b[0;34m,\u001b[0m \u001b[0mn_epochs\u001b[0m\u001b[0;34m=\u001b[0m\u001b[0;36m100\u001b[0m\u001b[0;34m,\u001b[0m \u001b[0mbatch_size\u001b[0m\u001b[0;34m=\u001b[0m\u001b[0;36m256\u001b[0m\u001b[0;34m,\u001b[0m \u001b[0mverbose\u001b[0m\u001b[0;34m=\u001b[0m\u001b[0;32mTrue\u001b[0m\u001b[0;34m,\u001b[0m \u001b[0mlearning_rate\u001b[0m\u001b[0;34m=\u001b[0m\u001b[0;36m0.01\u001b[0m\u001b[0;34m,\u001b[0m \u001b[0mhidden_layer_width\u001b[0m\u001b[0;34m=\u001b[0m\u001b[0;36m100\u001b[0m\u001b[0;34m)\u001b[0m\u001b[0;34m\u001b[0m\u001b[0;34m\u001b[0m\u001b[0m\n\u001b[0;32m----> 6\u001b[0;31m \u001b[0mmlp\u001b[0m\u001b[0;34m.\u001b[0m\u001b[0mcross_validate\u001b[0m\u001b[0;34m(\u001b[0m\u001b[0mkfold_dataset\u001b[0m\u001b[0;34m,\u001b[0m \u001b[0mn_splits\u001b[0m\u001b[0;34m=\u001b[0m\u001b[0;36m1\u001b[0m\u001b[0;34m)\u001b[0m\u001b[0;34m\u001b[0m\u001b[0;34m\u001b[0m\u001b[0m\n\u001b[0m",
            "\u001b[0;32m<ipython-input-57-d59e712b3a26>\u001b[0m in \u001b[0;36mcross_validate\u001b[0;34m(self, kfold_dataset, n_splits)\u001b[0m\n\u001b[1;32m    246\u001b[0m     \u001b[0;32mdef\u001b[0m \u001b[0mcross_validate\u001b[0m\u001b[0;34m(\u001b[0m\u001b[0mself\u001b[0m\u001b[0;34m,\u001b[0m \u001b[0mkfold_dataset\u001b[0m\u001b[0;34m,\u001b[0m \u001b[0mn_splits\u001b[0m\u001b[0;34m=\u001b[0m\u001b[0;36m5\u001b[0m\u001b[0;34m)\u001b[0m\u001b[0;34m:\u001b[0m\u001b[0;34m\u001b[0m\u001b[0;34m\u001b[0m\u001b[0m\n\u001b[1;32m    247\u001b[0m       \u001b[0mself\u001b[0m\u001b[0;34m.\u001b[0m\u001b[0minitialize_metrics\u001b[0m\u001b[0;34m(\u001b[0m\u001b[0;34m)\u001b[0m\u001b[0;34m\u001b[0m\u001b[0;34m\u001b[0m\u001b[0m\n\u001b[0;32m--> 248\u001b[0;31m       \u001b[0mkf\u001b[0m \u001b[0;34m=\u001b[0m \u001b[0mKFold\u001b[0m\u001b[0;34m(\u001b[0m\u001b[0mn_splits\u001b[0m\u001b[0;34m=\u001b[0m\u001b[0mn_splits\u001b[0m\u001b[0;34m,\u001b[0m \u001b[0mshuffle\u001b[0m\u001b[0;34m=\u001b[0m\u001b[0;32mTrue\u001b[0m\u001b[0;34m)\u001b[0m\u001b[0;34m\u001b[0m\u001b[0;34m\u001b[0m\u001b[0m\n\u001b[0m\u001b[1;32m    249\u001b[0m       \u001b[0;32mfor\u001b[0m \u001b[0mi\u001b[0m\u001b[0;34m,\u001b[0m \u001b[0;34m(\u001b[0m\u001b[0mtrain_index\u001b[0m\u001b[0;34m,\u001b[0m \u001b[0mvalidate_index\u001b[0m\u001b[0;34m)\u001b[0m \u001b[0;32min\u001b[0m \u001b[0menumerate\u001b[0m\u001b[0;34m(\u001b[0m\u001b[0mkf\u001b[0m\u001b[0;34m.\u001b[0m\u001b[0msplit\u001b[0m\u001b[0;34m(\u001b[0m\u001b[0mkfold_dataset\u001b[0m\u001b[0;34m)\u001b[0m\u001b[0;34m)\u001b[0m\u001b[0;34m:\u001b[0m\u001b[0;34m\u001b[0m\u001b[0;34m\u001b[0m\u001b[0m\n\u001b[1;32m    250\u001b[0m           \u001b[0mkfold_train\u001b[0m \u001b[0;34m=\u001b[0m \u001b[0mtorch\u001b[0m\u001b[0;34m.\u001b[0m\u001b[0mutils\u001b[0m\u001b[0;34m.\u001b[0m\u001b[0mdata\u001b[0m\u001b[0;34m.\u001b[0m\u001b[0mSubset\u001b[0m\u001b[0;34m(\u001b[0m\u001b[0mkfold_dataset\u001b[0m\u001b[0;34m,\u001b[0m \u001b[0mtrain_index\u001b[0m\u001b[0;34m)\u001b[0m\u001b[0;34m\u001b[0m\u001b[0;34m\u001b[0m\u001b[0m\n",
            "\u001b[0;32m/usr/local/lib/python3.6/dist-packages/sklearn/model_selection/_split.py\u001b[0m in \u001b[0;36m__init__\u001b[0;34m(self, n_splits, shuffle, random_state)\u001b[0m\n\u001b[1;32m    429\u001b[0m     def __init__(self, n_splits=5, shuffle=False,\n\u001b[1;32m    430\u001b[0m                  random_state=None):\n\u001b[0;32m--> 431\u001b[0;31m         \u001b[0msuper\u001b[0m\u001b[0;34m(\u001b[0m\u001b[0;34m)\u001b[0m\u001b[0;34m.\u001b[0m\u001b[0m__init__\u001b[0m\u001b[0;34m(\u001b[0m\u001b[0mn_splits\u001b[0m\u001b[0;34m,\u001b[0m \u001b[0mshuffle\u001b[0m\u001b[0;34m,\u001b[0m \u001b[0mrandom_state\u001b[0m\u001b[0;34m)\u001b[0m\u001b[0;34m\u001b[0m\u001b[0;34m\u001b[0m\u001b[0m\n\u001b[0m\u001b[1;32m    432\u001b[0m \u001b[0;34m\u001b[0m\u001b[0m\n\u001b[1;32m    433\u001b[0m     \u001b[0;32mdef\u001b[0m \u001b[0m_iter_test_indices\u001b[0m\u001b[0;34m(\u001b[0m\u001b[0mself\u001b[0m\u001b[0;34m,\u001b[0m \u001b[0mX\u001b[0m\u001b[0;34m,\u001b[0m \u001b[0my\u001b[0m\u001b[0;34m=\u001b[0m\u001b[0;32mNone\u001b[0m\u001b[0;34m,\u001b[0m \u001b[0mgroups\u001b[0m\u001b[0;34m=\u001b[0m\u001b[0;32mNone\u001b[0m\u001b[0;34m)\u001b[0m\u001b[0;34m:\u001b[0m\u001b[0;34m\u001b[0m\u001b[0;34m\u001b[0m\u001b[0m\n",
            "\u001b[0;32m/usr/local/lib/python3.6/dist-packages/sklearn/model_selection/_split.py\u001b[0m in \u001b[0;36m__init__\u001b[0;34m(self, n_splits, shuffle, random_state)\u001b[0m\n\u001b[1;32m    282\u001b[0m                 \u001b[0;34m\"k-fold cross-validation requires at least one\"\u001b[0m\u001b[0;34m\u001b[0m\u001b[0;34m\u001b[0m\u001b[0m\n\u001b[1;32m    283\u001b[0m                 \u001b[0;34m\" train/test split by setting n_splits=2 or more,\"\u001b[0m\u001b[0;34m\u001b[0m\u001b[0;34m\u001b[0m\u001b[0m\n\u001b[0;32m--> 284\u001b[0;31m                 \" got n_splits={0}.\".format(n_splits))\n\u001b[0m\u001b[1;32m    285\u001b[0m \u001b[0;34m\u001b[0m\u001b[0m\n\u001b[1;32m    286\u001b[0m         \u001b[0;32mif\u001b[0m \u001b[0;32mnot\u001b[0m \u001b[0misinstance\u001b[0m\u001b[0;34m(\u001b[0m\u001b[0mshuffle\u001b[0m\u001b[0;34m,\u001b[0m \u001b[0mbool\u001b[0m\u001b[0;34m)\u001b[0m\u001b[0;34m:\u001b[0m\u001b[0;34m\u001b[0m\u001b[0;34m\u001b[0m\u001b[0m\n",
            "\u001b[0;31mValueError\u001b[0m: k-fold cross-validation requires at least one train/test split by setting n_splits=2 or more, got n_splits=1."
          ]
        }
      ]
    },
    {
      "cell_type": "code",
      "metadata": {
        "id": "b6cSEaf1ae82",
        "colab_type": "code",
        "colab": {}
      },
      "source": [
        "for i in range(5):\n",
        "  plt.imshow(mlp.test_Y[i:10*(i+1),:] - mlp.convert_to_01(mlp.test_Y_hat[i:10*(i+1),:]))"
      ],
      "execution_count": 0,
      "outputs": []
    },
    {
      "cell_type": "code",
      "metadata": {
        "id": "x9GjT-mli6yx",
        "colab_type": "code",
        "outputId": "1247c132-6541-49b3-a930-68981b41677f",
        "colab": {
          "base_uri": "https://localhost:8080/",
          "height": 409
        }
      },
      "source": [
        "# PLAYING with HYPERPARAMETERS --- nice result here...\n",
        "\n",
        "transform = transforms.Compose([transforms.ToTensor(), transforms.Normalize((0.5, 0.5, 0.5), (0.5, 0.5, 0.5))])\n",
        "train_dataset = torchvision.datasets.CIFAR10('/content/sample_data/', download=True, transform=transform)\n",
        "\n",
        "mlp = TwoLayerMLP(hidden_activation='sigmoid', n_epochs=15, batch_size=256, verbose=True, learning_rate=0.005, hidden_layer_width=100)\n",
        "mlp.train(train_dataset)\n",
        "plt.plot(mlp.cost)\n",
        "plt.ylabel('Cost')\n",
        "plt.xlabel('Mini-batches')\n",
        "# test_dataset = torchvision.datasets.CIFAR10('/content/sample_data/', download=True, train=False, transform=transform)\n",
        "# mlp.test(test_dataset)"
      ],
      "execution_count": 0,
      "outputs": [
        {
          "output_type": "stream",
          "text": [
            "Files already downloaded and verified\n",
            "Finished training epoch 1.\n"
          ],
          "name": "stdout"
        },
        {
          "output_type": "error",
          "ename": "KeyboardInterrupt",
          "evalue": "ignored",
          "traceback": [
            "\u001b[0;31m---------------------------------------------------------------------------\u001b[0m",
            "\u001b[0;31mKeyboardInterrupt\u001b[0m                         Traceback (most recent call last)",
            "\u001b[0;32m<ipython-input-49-aa1375bd9c14>\u001b[0m in \u001b[0;36m<module>\u001b[0;34m()\u001b[0m\n\u001b[1;32m      4\u001b[0m \u001b[0;34m\u001b[0m\u001b[0m\n\u001b[1;32m      5\u001b[0m \u001b[0mmlp\u001b[0m \u001b[0;34m=\u001b[0m \u001b[0mTwoLayerMLP\u001b[0m\u001b[0;34m(\u001b[0m\u001b[0mhidden_activation\u001b[0m\u001b[0;34m=\u001b[0m\u001b[0;34m'sigmoid'\u001b[0m\u001b[0;34m,\u001b[0m \u001b[0mn_epochs\u001b[0m\u001b[0;34m=\u001b[0m\u001b[0;36m15\u001b[0m\u001b[0;34m,\u001b[0m \u001b[0mbatch_size\u001b[0m\u001b[0;34m=\u001b[0m\u001b[0;36m256\u001b[0m\u001b[0;34m,\u001b[0m \u001b[0mverbose\u001b[0m\u001b[0;34m=\u001b[0m\u001b[0;32mTrue\u001b[0m\u001b[0;34m,\u001b[0m \u001b[0mlearning_rate\u001b[0m\u001b[0;34m=\u001b[0m\u001b[0;36m0.005\u001b[0m\u001b[0;34m,\u001b[0m \u001b[0mhidden_layer_width\u001b[0m\u001b[0;34m=\u001b[0m\u001b[0;36m100\u001b[0m\u001b[0;34m)\u001b[0m\u001b[0;34m\u001b[0m\u001b[0;34m\u001b[0m\u001b[0m\n\u001b[0;32m----> 6\u001b[0;31m \u001b[0mmlp\u001b[0m\u001b[0;34m.\u001b[0m\u001b[0mtrain\u001b[0m\u001b[0;34m(\u001b[0m\u001b[0mtrain_dataset\u001b[0m\u001b[0;34m)\u001b[0m\u001b[0;34m\u001b[0m\u001b[0;34m\u001b[0m\u001b[0m\n\u001b[0m\u001b[1;32m      7\u001b[0m \u001b[0mplt\u001b[0m\u001b[0;34m.\u001b[0m\u001b[0mplot\u001b[0m\u001b[0;34m(\u001b[0m\u001b[0mmlp\u001b[0m\u001b[0;34m.\u001b[0m\u001b[0mcost\u001b[0m\u001b[0;34m)\u001b[0m\u001b[0;34m\u001b[0m\u001b[0;34m\u001b[0m\u001b[0m\n\u001b[1;32m      8\u001b[0m \u001b[0mplt\u001b[0m\u001b[0;34m.\u001b[0m\u001b[0mylabel\u001b[0m\u001b[0;34m(\u001b[0m\u001b[0;34m'Cost'\u001b[0m\u001b[0;34m)\u001b[0m\u001b[0;34m\u001b[0m\u001b[0;34m\u001b[0m\u001b[0m\n",
            "\u001b[0;32m<ipython-input-47-67fd54a4e7f5>\u001b[0m in \u001b[0;36mtrain\u001b[0;34m(self, train_dataset)\u001b[0m\n\u001b[1;32m    191\u001b[0m         \u001b[0mself\u001b[0m\u001b[0;34m.\u001b[0m\u001b[0mcost\u001b[0m \u001b[0;34m=\u001b[0m \u001b[0;34m[\u001b[0m\u001b[0;34m]\u001b[0m\u001b[0;34m\u001b[0m\u001b[0;34m\u001b[0m\u001b[0m\n\u001b[1;32m    192\u001b[0m         \u001b[0;32mfor\u001b[0m \u001b[0mi\u001b[0m \u001b[0;32min\u001b[0m \u001b[0mrange\u001b[0m\u001b[0;34m(\u001b[0m\u001b[0mself\u001b[0m\u001b[0;34m.\u001b[0m\u001b[0mn_epochs\u001b[0m\u001b[0;34m)\u001b[0m\u001b[0;34m:\u001b[0m\u001b[0;34m\u001b[0m\u001b[0;34m\u001b[0m\u001b[0m\n\u001b[0;32m--> 193\u001b[0;31m             \u001b[0mself\u001b[0m\u001b[0;34m.\u001b[0m\u001b[0mtrain_one_epoch\u001b[0m\u001b[0;34m(\u001b[0m\u001b[0mtrain_loader\u001b[0m\u001b[0;34m)\u001b[0m\u001b[0;34m\u001b[0m\u001b[0;34m\u001b[0m\u001b[0m\n\u001b[0m\u001b[1;32m    194\u001b[0m             \u001b[0;32mif\u001b[0m \u001b[0mself\u001b[0m\u001b[0;34m.\u001b[0m\u001b[0mverbose\u001b[0m\u001b[0;34m:\u001b[0m \u001b[0mprint\u001b[0m\u001b[0;34m(\u001b[0m\u001b[0;34m\"Finished training epoch %d.\"\u001b[0m \u001b[0;34m%\u001b[0m \u001b[0;34m(\u001b[0m\u001b[0mi\u001b[0m\u001b[0;34m+\u001b[0m\u001b[0;36m1\u001b[0m\u001b[0;34m)\u001b[0m\u001b[0;34m)\u001b[0m\u001b[0;34m\u001b[0m\u001b[0;34m\u001b[0m\u001b[0m\n\u001b[1;32m    195\u001b[0m \u001b[0;34m\u001b[0m\u001b[0m\n",
            "\u001b[0;32m<ipython-input-47-67fd54a4e7f5>\u001b[0m in \u001b[0;36mtrain_one_epoch\u001b[0;34m(self, train_loader)\u001b[0m\n\u001b[1;32m    183\u001b[0m         \u001b[0;32mfor\u001b[0m \u001b[0mi\u001b[0m\u001b[0;34m,\u001b[0m \u001b[0mdata\u001b[0m \u001b[0;32min\u001b[0m \u001b[0menumerate\u001b[0m\u001b[0;34m(\u001b[0m\u001b[0mtrain_loader\u001b[0m\u001b[0;34m)\u001b[0m\u001b[0;34m:\u001b[0m\u001b[0;34m\u001b[0m\u001b[0;34m\u001b[0m\u001b[0m\n\u001b[1;32m    184\u001b[0m             \u001b[0mself\u001b[0m\u001b[0;34m.\u001b[0m\u001b[0mset_XY\u001b[0m\u001b[0;34m(\u001b[0m\u001b[0mdata\u001b[0m\u001b[0;34m)\u001b[0m\u001b[0;34m\u001b[0m\u001b[0;34m\u001b[0m\u001b[0m\n\u001b[0;32m--> 185\u001b[0;31m             \u001b[0mself\u001b[0m\u001b[0;34m.\u001b[0m\u001b[0mtrain_one_batch\u001b[0m\u001b[0;34m(\u001b[0m\u001b[0;34m)\u001b[0m\u001b[0;34m\u001b[0m\u001b[0;34m\u001b[0m\u001b[0m\n\u001b[0m\u001b[1;32m    186\u001b[0m             \u001b[0mself\u001b[0m\u001b[0;34m.\u001b[0m\u001b[0mcost\u001b[0m\u001b[0;34m.\u001b[0m\u001b[0mappend\u001b[0m\u001b[0;34m(\u001b[0m\u001b[0mself\u001b[0m\u001b[0;34m.\u001b[0m\u001b[0mbatch_cross_entropy_loss\u001b[0m\u001b[0;34m(\u001b[0m\u001b[0;34m)\u001b[0m\u001b[0;34m)\u001b[0m\u001b[0;34m\u001b[0m\u001b[0;34m\u001b[0m\u001b[0m\n\u001b[1;32m    187\u001b[0m \u001b[0;34m\u001b[0m\u001b[0m\n",
            "\u001b[0;32m<ipython-input-47-67fd54a4e7f5>\u001b[0m in \u001b[0;36mtrain_one_batch\u001b[0;34m(self)\u001b[0m\n\u001b[1;32m    171\u001b[0m             \u001b[0mloss_and_softmax_grad\u001b[0m \u001b[0;34m=\u001b[0m \u001b[0mself\u001b[0m\u001b[0;34m.\u001b[0m\u001b[0mY_hat\u001b[0m\u001b[0;34m[\u001b[0m\u001b[0mi\u001b[0m\u001b[0;34m,\u001b[0m \u001b[0;34m:\u001b[0m\u001b[0;34m]\u001b[0m \u001b[0;34m-\u001b[0m \u001b[0mself\u001b[0m\u001b[0;34m.\u001b[0m\u001b[0mY\u001b[0m\u001b[0;34m[\u001b[0m\u001b[0mi\u001b[0m\u001b[0;34m,\u001b[0m \u001b[0;34m:\u001b[0m\u001b[0;34m]\u001b[0m  \u001b[0;31m# (C) vector\u001b[0m\u001b[0;34m\u001b[0m\u001b[0;34m\u001b[0m\u001b[0m\n\u001b[1;32m    172\u001b[0m             \u001b[0mdelta_V\u001b[0m \u001b[0;34m+=\u001b[0m \u001b[0mtorch\u001b[0m\u001b[0;34m.\u001b[0m\u001b[0mger\u001b[0m\u001b[0;34m(\u001b[0m\u001b[0mself\u001b[0m\u001b[0;34m.\u001b[0m\u001b[0mA1\u001b[0m\u001b[0;34m[\u001b[0m\u001b[0mi\u001b[0m\u001b[0;34m,\u001b[0m \u001b[0;34m:\u001b[0m\u001b[0;34m]\u001b[0m\u001b[0;34m,\u001b[0m \u001b[0mloss_and_softmax_grad\u001b[0m\u001b[0;34m)\u001b[0m  \u001b[0;31m# outer product makes (M x C) matrix\u001b[0m\u001b[0;34m\u001b[0m\u001b[0;34m\u001b[0m\u001b[0m\n\u001b[0;32m--> 173\u001b[0;31m             \u001b[0mrow_calculation\u001b[0m \u001b[0;34m=\u001b[0m \u001b[0mtorch\u001b[0m\u001b[0;34m.\u001b[0m\u001b[0mmv\u001b[0m\u001b[0;34m(\u001b[0m\u001b[0mself\u001b[0m\u001b[0;34m.\u001b[0m\u001b[0mV\u001b[0m\u001b[0;34m,\u001b[0m \u001b[0mloss_and_softmax_grad\u001b[0m\u001b[0;34m)\u001b[0m \u001b[0;34m*\u001b[0m \u001b[0mself\u001b[0m\u001b[0;34m.\u001b[0m\u001b[0mactivation\u001b[0m\u001b[0;34m(\u001b[0m\u001b[0mself\u001b[0m\u001b[0;34m.\u001b[0m\u001b[0mZ1\u001b[0m\u001b[0;34m[\u001b[0m\u001b[0mi\u001b[0m\u001b[0;34m,\u001b[0m \u001b[0;34m:\u001b[0m\u001b[0;34m]\u001b[0m\u001b[0;34m,\u001b[0m \u001b[0mderivative\u001b[0m\u001b[0;34m=\u001b[0m\u001b[0;32mTrue\u001b[0m\u001b[0;34m)\u001b[0m  \u001b[0;31m# (M) vector\u001b[0m\u001b[0;34m\u001b[0m\u001b[0;34m\u001b[0m\u001b[0m\n\u001b[0m\u001b[1;32m    174\u001b[0m             \u001b[0mdelta_W\u001b[0m \u001b[0;34m+=\u001b[0m \u001b[0mtorch\u001b[0m\u001b[0;34m.\u001b[0m\u001b[0mger\u001b[0m\u001b[0;34m(\u001b[0m\u001b[0mself\u001b[0m\u001b[0;34m.\u001b[0m\u001b[0mX\u001b[0m\u001b[0;34m[\u001b[0m\u001b[0mi\u001b[0m\u001b[0;34m,\u001b[0m \u001b[0;34m:\u001b[0m\u001b[0;34m]\u001b[0m\u001b[0;34m,\u001b[0m \u001b[0mrow_calculation\u001b[0m\u001b[0;34m)\u001b[0m  \u001b[0;31m# outer product makes (D x M) matrix\u001b[0m\u001b[0;34m\u001b[0m\u001b[0;34m\u001b[0m\u001b[0m\n\u001b[1;32m    175\u001b[0m         \u001b[0;31m# Average gradients.\u001b[0m\u001b[0;34m\u001b[0m\u001b[0;34m\u001b[0m\u001b[0;34m\u001b[0m\u001b[0m\n",
            "\u001b[0;32m<ipython-input-47-67fd54a4e7f5>\u001b[0m in \u001b[0;36mactivation\u001b[0;34m(self, Z, output, derivative)\u001b[0m\n\u001b[1;32m    126\u001b[0m                 \u001b[0;32mreturn\u001b[0m \u001b[0mself\u001b[0m\u001b[0;34m.\u001b[0m\u001b[0mhyperbolic_tangent_derivative\u001b[0m\u001b[0;34m(\u001b[0m\u001b[0mZ\u001b[0m\u001b[0;34m)\u001b[0m\u001b[0;34m\u001b[0m\u001b[0;34m\u001b[0m\u001b[0m\n\u001b[1;32m    127\u001b[0m             \u001b[0;32melif\u001b[0m \u001b[0mfunction\u001b[0m \u001b[0;34m==\u001b[0m \u001b[0;34m'sigmoid'\u001b[0m\u001b[0;34m:\u001b[0m\u001b[0;34m\u001b[0m\u001b[0;34m\u001b[0m\u001b[0m\n\u001b[0;32m--> 128\u001b[0;31m                 \u001b[0;32mreturn\u001b[0m \u001b[0mself\u001b[0m\u001b[0;34m.\u001b[0m\u001b[0msigmoid_derivative\u001b[0m\u001b[0;34m(\u001b[0m\u001b[0mZ\u001b[0m\u001b[0;34m)\u001b[0m\u001b[0;34m\u001b[0m\u001b[0;34m\u001b[0m\u001b[0m\n\u001b[0m\u001b[1;32m    129\u001b[0m             \u001b[0;32melif\u001b[0m \u001b[0mfunction\u001b[0m \u001b[0;34m==\u001b[0m \u001b[0;34m'softmax'\u001b[0m\u001b[0;34m:\u001b[0m\u001b[0;34m\u001b[0m\u001b[0;34m\u001b[0m\u001b[0m\n\u001b[1;32m    130\u001b[0m                 \u001b[0;32mreturn\u001b[0m \u001b[0mself\u001b[0m\u001b[0;34m.\u001b[0m\u001b[0msoftmax_grad\u001b[0m\u001b[0;34m(\u001b[0m\u001b[0mZ\u001b[0m\u001b[0;34m)\u001b[0m\u001b[0;34m\u001b[0m\u001b[0;34m\u001b[0m\u001b[0m\n",
            "\u001b[0;32m<ipython-input-47-67fd54a4e7f5>\u001b[0m in \u001b[0;36msigmoid_derivative\u001b[0;34m(self, Z)\u001b[0m\n\u001b[1;32m     95\u001b[0m \u001b[0;34m\u001b[0m\u001b[0m\n\u001b[1;32m     96\u001b[0m     \u001b[0;32mdef\u001b[0m \u001b[0msigmoid_derivative\u001b[0m\u001b[0;34m(\u001b[0m\u001b[0mself\u001b[0m\u001b[0;34m,\u001b[0m \u001b[0mZ\u001b[0m\u001b[0;34m)\u001b[0m\u001b[0;34m:\u001b[0m\u001b[0;34m\u001b[0m\u001b[0;34m\u001b[0m\u001b[0m\n\u001b[0;32m---> 97\u001b[0;31m         \u001b[0;32mreturn\u001b[0m \u001b[0mself\u001b[0m\u001b[0;34m.\u001b[0m\u001b[0msigmoid\u001b[0m\u001b[0;34m(\u001b[0m\u001b[0mZ\u001b[0m\u001b[0;34m)\u001b[0m \u001b[0;34m*\u001b[0m \u001b[0;34m(\u001b[0m\u001b[0;36m1\u001b[0m \u001b[0;34m-\u001b[0m \u001b[0mself\u001b[0m\u001b[0;34m.\u001b[0m\u001b[0msigmoid\u001b[0m\u001b[0;34m(\u001b[0m\u001b[0mZ\u001b[0m\u001b[0;34m)\u001b[0m\u001b[0;34m)\u001b[0m\u001b[0;34m\u001b[0m\u001b[0;34m\u001b[0m\u001b[0m\n\u001b[0m\u001b[1;32m     98\u001b[0m \u001b[0;34m\u001b[0m\u001b[0m\n\u001b[1;32m     99\u001b[0m     \u001b[0;32mdef\u001b[0m \u001b[0msoftmax_grad\u001b[0m\u001b[0;34m(\u001b[0m\u001b[0mself\u001b[0m\u001b[0;34m,\u001b[0m \u001b[0mZ\u001b[0m\u001b[0;34m)\u001b[0m\u001b[0;34m:\u001b[0m\u001b[0;34m\u001b[0m\u001b[0;34m\u001b[0m\u001b[0m\n",
            "\u001b[0;32m<ipython-input-47-67fd54a4e7f5>\u001b[0m in \u001b[0;36msigmoid\u001b[0;34m(Z)\u001b[0m\n\u001b[1;32m     40\u001b[0m     \u001b[0;34m@\u001b[0m\u001b[0mstaticmethod\u001b[0m\u001b[0;34m\u001b[0m\u001b[0;34m\u001b[0m\u001b[0m\n\u001b[1;32m     41\u001b[0m     \u001b[0;32mdef\u001b[0m \u001b[0msigmoid\u001b[0m\u001b[0;34m(\u001b[0m\u001b[0mZ\u001b[0m\u001b[0;34m)\u001b[0m\u001b[0;34m:\u001b[0m\u001b[0;34m\u001b[0m\u001b[0;34m\u001b[0m\u001b[0m\n\u001b[0;32m---> 42\u001b[0;31m         \u001b[0;32mreturn\u001b[0m \u001b[0;36m1\u001b[0m \u001b[0;34m/\u001b[0m \u001b[0;34m(\u001b[0m\u001b[0;36m1\u001b[0m \u001b[0;34m+\u001b[0m \u001b[0mtorch\u001b[0m\u001b[0;34m.\u001b[0m\u001b[0mexp\u001b[0m\u001b[0;34m(\u001b[0m\u001b[0;34m-\u001b[0m\u001b[0mZ\u001b[0m\u001b[0;34m)\u001b[0m\u001b[0;34m)\u001b[0m\u001b[0;34m\u001b[0m\u001b[0;34m\u001b[0m\u001b[0m\n\u001b[0m\u001b[1;32m     43\u001b[0m \u001b[0;34m\u001b[0m\u001b[0m\n\u001b[1;32m     44\u001b[0m     \u001b[0;34m@\u001b[0m\u001b[0mstaticmethod\u001b[0m\u001b[0;34m\u001b[0m\u001b[0;34m\u001b[0m\u001b[0m\n",
            "\u001b[0;32m/usr/local/lib/python3.6/dist-packages/torch/tensor.py\u001b[0m in \u001b[0;36m__rdiv__\u001b[0;34m(self, other)\u001b[0m\n\u001b[1;32m    396\u001b[0m     \u001b[0;32mdef\u001b[0m \u001b[0m__rdiv__\u001b[0m\u001b[0;34m(\u001b[0m\u001b[0mself\u001b[0m\u001b[0;34m,\u001b[0m \u001b[0mother\u001b[0m\u001b[0;34m)\u001b[0m\u001b[0;34m:\u001b[0m\u001b[0;34m\u001b[0m\u001b[0;34m\u001b[0m\u001b[0m\n\u001b[1;32m    397\u001b[0m         \u001b[0;32mif\u001b[0m \u001b[0mself\u001b[0m\u001b[0;34m.\u001b[0m\u001b[0mdtype\u001b[0m\u001b[0;34m.\u001b[0m\u001b[0mis_floating_point\u001b[0m\u001b[0;34m:\u001b[0m\u001b[0;34m\u001b[0m\u001b[0;34m\u001b[0m\u001b[0m\n\u001b[0;32m--> 398\u001b[0;31m             \u001b[0;32mreturn\u001b[0m \u001b[0mself\u001b[0m\u001b[0;34m.\u001b[0m\u001b[0mreciprocal\u001b[0m\u001b[0;34m(\u001b[0m\u001b[0;34m)\u001b[0m \u001b[0;34m*\u001b[0m \u001b[0mother\u001b[0m\u001b[0;34m\u001b[0m\u001b[0;34m\u001b[0m\u001b[0m\n\u001b[0m\u001b[1;32m    399\u001b[0m         \u001b[0;32melse\u001b[0m\u001b[0;34m:\u001b[0m\u001b[0;34m\u001b[0m\u001b[0;34m\u001b[0m\u001b[0m\n\u001b[1;32m    400\u001b[0m             \u001b[0;32mreturn\u001b[0m \u001b[0;34m(\u001b[0m\u001b[0mself\u001b[0m\u001b[0;34m.\u001b[0m\u001b[0mdouble\u001b[0m\u001b[0;34m(\u001b[0m\u001b[0;34m)\u001b[0m\u001b[0;34m.\u001b[0m\u001b[0mreciprocal\u001b[0m\u001b[0;34m(\u001b[0m\u001b[0;34m)\u001b[0m \u001b[0;34m*\u001b[0m \u001b[0mother\u001b[0m\u001b[0;34m)\u001b[0m\u001b[0;34m.\u001b[0m\u001b[0mtype_as\u001b[0m\u001b[0;34m(\u001b[0m\u001b[0mself\u001b[0m\u001b[0;34m)\u001b[0m\u001b[0;34m\u001b[0m\u001b[0;34m\u001b[0m\u001b[0m\n",
            "\u001b[0;31mKeyboardInterrupt\u001b[0m: "
          ]
        }
      ]
    },
    {
      "cell_type": "code",
      "metadata": {
        "id": "rMHa7Q7_mGZC",
        "colab_type": "code",
        "colab": {}
      },
      "source": [
        ""
      ],
      "execution_count": 0,
      "outputs": []
    },
    {
      "cell_type": "code",
      "metadata": {
        "id": "Oh_HzLoPlOLu",
        "colab_type": "code",
        "outputId": "1a690cfe-b1dc-4df2-dae2-dce9134e13ca",
        "colab": {
          "base_uri": "https://localhost:8080/",
          "height": 155
        }
      },
      "source": [
        "classes = ('plane', 'car', 'bird', 'cat',\n",
        "           'deer', 'dog', 'frog', 'horse', 'ship', 'truck')\n",
        "\n",
        "def image_show(img):\n",
        "  img = img/2 + 0.5\n",
        "  np_img = img.numpy()\n",
        "  plt.imshow(np.transpose(np_img, (1, 2, 0)))\n",
        "  plt.show()\n",
        "\n",
        "# data_iter = iter(train_loader)\n",
        "images, labels = iter(train_loader).next()\n",
        "\n",
        "image_show(torchvision.utils.make_grid(images))\n",
        "print(' '.join('%5s' % classes[labels[j]] for j in range(4))) "
      ],
      "execution_count": 0,
      "outputs": [
        {
          "output_type": "display_data",
          "data": {
            "image/png": "[encoded data removed]",
            "text/plain": [
              "<Figure size 432x288 with 1 Axes>"
            ]
          },
          "metadata": {
            "tags": [],
            "needs_background": "light"
          }
        },
        {
          "output_type": "stream",
          "text": [
            " frog   car  bird   dog\n"
          ],
          "name": "stdout"
        }
      ]
    }
  ]
}